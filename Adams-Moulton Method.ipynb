{
 "cells": [
  {
   "cell_type": "code",
   "execution_count": 1,
   "metadata": {},
   "outputs": [],
   "source": [
    "import numpy as np\n",
    "import matplotlib.pyplot as plt\n",
    "import scipy\n",
    "from scipy import linalg"
   ]
  },
  {
   "cell_type": "code",
   "execution_count": 2,
   "metadata": {},
   "outputs": [],
   "source": [
    "def runge_kutta(uk,dt):\n",
    "    \n",
    "    y1 = f_true(uk)\n",
    "    y2 = f_true(uk+1/2*dt*y1)\n",
    "    y3 = f_true(uk+1/2*dt*y2)\n",
    "    y4 = f_true(uk+dt*y3)\n",
    "    \n",
    "    uk_plus_one = uk + 1/6 * dt * (y1 + 2*y2 + 2*y3 + y4)\n",
    "    \n",
    "    return uk_plus_one"
   ]
  },
  {
   "cell_type": "code",
   "execution_count": 3,
   "metadata": {},
   "outputs": [],
   "source": [
    "def am3(u_0,T,delta_t):\n",
    "    time = np.arange(0, T + delta_t, delta_t)\n",
    "    u = np.zeros([len(time), len(u_0)])\n",
    "    for i in range(len(time)):\n",
    "        if i == 0:\n",
    "            u[0] = u_0 \n",
    "        elif i == 1:\n",
    "            u[1] = runge_kutta(u[0], delta_t)\n",
    "        elif i == 2:\n",
    "            u[2] = runge_kutta(u[1], delta_t)# why using runge kutta and not AB2?\n",
    "        elif(i > 2):\n",
    "            u[i] = u[i-1] + (delta_t/12) * (5*f_true(u[i-3]) - 16*f_true(u[i-2]) + 23*f_true(u[i-1])) \n",
    "    "
   ]
  }
 ],
 "metadata": {
  "kernelspec": {
   "display_name": "Python 3",
   "language": "python",
   "name": "python3"
  },
  "language_info": {
   "codemirror_mode": {
    "name": "ipython",
    "version": 3
   },
   "file_extension": ".py",
   "mimetype": "text/x-python",
   "name": "python",
   "nbconvert_exporter": "python",
   "pygments_lexer": "ipython3",
   "version": "3.7.6"
  }
 },
 "nbformat": 4,
 "nbformat_minor": 4
}
