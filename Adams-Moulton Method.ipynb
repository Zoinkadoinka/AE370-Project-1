{
 "cells": [
  {
   "cell_type": "code",
   "execution_count": 14,
   "metadata": {},
   "outputs": [],
   "source": [
    "import numpy as np\n",
    "import matplotlib.pyplot as plt\n",
    "import scipy\n",
    "from scipy import linalg"
   ]
  },
  {
   "cell_type": "code",
   "execution_count": 15,
   "metadata": {},
   "outputs": [],
   "source": [
    "def runge_kutta(uk,dt):\n",
    "    \n",
    "    y1 = f_true(uk)\n",
    "    y2 = f_true(uk+1/2*dt*y1)\n",
    "    y3 = f_true(uk+1/2*dt*y2)\n",
    "    y4 = f_true(uk+dt*y3)\n",
    "    \n",
    "    uk_plus_one = uk + 1/6 * dt * (y1 + 2*y2 + 2*y3 + y4)\n",
    "    \n",
    "    return uk_plus_one"
   ]
  },
  {
   "cell_type": "code",
   "execution_count": 1,
   "metadata": {},
   "outputs": [],
   "source": [
    "def am3(u_0,T,delta_t):\n",
    "    time = np.arange(0, T + delta_t, delta_t)\n",
    "    u = np.zeros([len(time), len(u_0)])\n",
    "    for i in range(len(time)):\n",
    "        if i == 0:\n",
    "            u[0] = u_0 \n",
    "        elif i == 1:\n",
    "            u[1] = runge_kutta(u[0], delta_t)\n",
    "        elif i == 2:\n",
    "            u[2] = runge_kutta(u[1], delta_t)# why using runge kutta and not AB2?\n",
    "        elif(i > 2):\n",
    "            #u[i] = u_k+1\n",
    "            #u[i-1] = u_k\n",
    "            #u[i-2] = u_k-1\n",
    "            #u[i-3] = u_k-2         \n",
    "            u[i] = u[i-1] + delta_t/24 * (\n",
    "                f_true(u[i-3]) - 5*f_true(u[i-2]) + 19*f_true(u[i-1]) + 9*f_true(u[i]) \n",
    "            )\n",
    "    return u,time"
   ]
  },
  {
   "cell_type": "markdown",
   "metadata": {},
   "source": [
    "# scratch work"
   ]
  },
  {
   "cell_type": "code",
   "execution_count": 9,
   "metadata": {},
   "outputs": [
    {
     "data": {
      "text/plain": [
       "5001"
      ]
     },
     "execution_count": 9,
     "metadata": {},
     "output_type": "execute_result"
    }
   ],
   "source": [
    "\n",
    "\n",
    "import numpy as np\n",
    "T = 50\n",
    "dt = .01\n",
    "time = np.arange(0, T + dt, dt)\n",
    "x = np.array([[0, 1,2],\n",
    "            [5,6,7]])\n",
    "xx = np.zeros([len(time), len(x)])\n"
   ]
  },
  {
   "cell_type": "code",
   "execution_count": 19,
   "metadata": {},
   "outputs": [],
   "source": [
    "# AM3 Method from the difference equation stuff\n",
    "\n",
    "\n",
    "def am3_diffeq(u_0,a,b,N):\n",
    "    '''\n",
    "    takes in:\n",
    "    u_0 : initial point\n",
    "    a   : time interval start\n",
    "    b   : time interval end\n",
    "    N   : number of steps\n",
    "    '''\n",
    "    h = (b-a)/N\n",
    "    t = np.arange(a,b+h,h)\n",
    "    u = np.zeros(len(t))\n",
    "    u[0] = u_0\n",
    "    u[1] = runge_kutta(u[0], h)\n",
    "    u[2] = runge_kutta(u[1], h)\n",
    "    for i in range(2,N):\n",
    "        u[i+1] = ( u[i] +\n",
    "                  h/24 * (9*t[i+1] + \n",
    "                         + 19*t[i] - 19*u[i]\n",
    "                         - 5*t[i-1] + 5*u[i-1]\n",
    "                         + t[i-2] + u[i-2])\n",
    "        ) / (1 + 9*h/24)\n",
    "        \n",
    "    return u, t"
   ]
  },
  {
   "cell_type": "code",
   "execution_count": 20,
   "metadata": {},
   "outputs": [
    {
     "name": "stdout",
     "output_type": "stream",
     "text": [
      "[ 1 -2]\n"
     ]
    },
    {
     "ename": "ValueError",
     "evalue": "setting an array element with a sequence.",
     "output_type": "error",
     "traceback": [
      "\u001b[0;31m---------------------------------------------------------------------------\u001b[0m",
      "\u001b[0;31mTypeError\u001b[0m                                 Traceback (most recent call last)",
      "\u001b[0;31mTypeError\u001b[0m: only size-1 arrays can be converted to Python scalars",
      "\nThe above exception was the direct cause of the following exception:\n",
      "\u001b[0;31mValueError\u001b[0m                                Traceback (most recent call last)",
      "\u001b[0;32m<ipython-input-20-02e63ac18efc>\u001b[0m in \u001b[0;36m<module>\u001b[0;34m\u001b[0m\n\u001b[1;32m      2\u001b[0m \u001b[0mu_0\u001b[0m \u001b[0;34m=\u001b[0m \u001b[0mnp\u001b[0m\u001b[0;34m.\u001b[0m\u001b[0marray\u001b[0m\u001b[0;34m(\u001b[0m\u001b[0;34m[\u001b[0m\u001b[0;36m1\u001b[0m\u001b[0;34m,\u001b[0m \u001b[0;36m1\u001b[0m\u001b[0;34m]\u001b[0m\u001b[0;34m)\u001b[0m\u001b[0;34m\u001b[0m\u001b[0;34m\u001b[0m\u001b[0m\n\u001b[1;32m      3\u001b[0m \u001b[0mprint\u001b[0m\u001b[0;34m(\u001b[0m\u001b[0mf_true\u001b[0m\u001b[0;34m(\u001b[0m\u001b[0mu_0\u001b[0m\u001b[0;34m)\u001b[0m\u001b[0;34m)\u001b[0m\u001b[0;34m\u001b[0m\u001b[0;34m\u001b[0m\u001b[0m\n\u001b[0;32m----> 4\u001b[0;31m \u001b[0mu\u001b[0m\u001b[0;34m,\u001b[0m \u001b[0mtimes\u001b[0m \u001b[0;34m=\u001b[0m \u001b[0mam3_diffeq\u001b[0m\u001b[0;34m(\u001b[0m\u001b[0mu_0\u001b[0m\u001b[0;34m,\u001b[0m \u001b[0;36m0\u001b[0m\u001b[0;34m,\u001b[0m\u001b[0;36m5\u001b[0m\u001b[0;34m,\u001b[0m \u001b[0;36m50\u001b[0m\u001b[0;34m)\u001b[0m\u001b[0;34m\u001b[0m\u001b[0;34m\u001b[0m\u001b[0m\n\u001b[0m",
      "\u001b[0;32m<ipython-input-19-659efbb56f7a>\u001b[0m in \u001b[0;36mam3_diffeq\u001b[0;34m(u_0, a, b, N)\u001b[0m\n\u001b[1;32m     13\u001b[0m     \u001b[0mt\u001b[0m \u001b[0;34m=\u001b[0m \u001b[0mnp\u001b[0m\u001b[0;34m.\u001b[0m\u001b[0marange\u001b[0m\u001b[0;34m(\u001b[0m\u001b[0ma\u001b[0m\u001b[0;34m,\u001b[0m\u001b[0mb\u001b[0m\u001b[0;34m+\u001b[0m\u001b[0mh\u001b[0m\u001b[0;34m,\u001b[0m\u001b[0mh\u001b[0m\u001b[0;34m)\u001b[0m\u001b[0;34m\u001b[0m\u001b[0;34m\u001b[0m\u001b[0m\n\u001b[1;32m     14\u001b[0m     \u001b[0mu\u001b[0m \u001b[0;34m=\u001b[0m \u001b[0mnp\u001b[0m\u001b[0;34m.\u001b[0m\u001b[0mzeros\u001b[0m\u001b[0;34m(\u001b[0m\u001b[0mlen\u001b[0m\u001b[0;34m(\u001b[0m\u001b[0mt\u001b[0m\u001b[0;34m)\u001b[0m\u001b[0;34m)\u001b[0m\u001b[0;34m\u001b[0m\u001b[0;34m\u001b[0m\u001b[0m\n\u001b[0;32m---> 15\u001b[0;31m     \u001b[0mu\u001b[0m\u001b[0;34m[\u001b[0m\u001b[0;36m0\u001b[0m\u001b[0;34m]\u001b[0m \u001b[0;34m=\u001b[0m \u001b[0mu_0\u001b[0m\u001b[0;34m\u001b[0m\u001b[0;34m\u001b[0m\u001b[0m\n\u001b[0m\u001b[1;32m     16\u001b[0m     \u001b[0mu\u001b[0m\u001b[0;34m[\u001b[0m\u001b[0;36m1\u001b[0m\u001b[0;34m]\u001b[0m \u001b[0;34m=\u001b[0m \u001b[0mrunge_kutta\u001b[0m\u001b[0;34m(\u001b[0m\u001b[0mu\u001b[0m\u001b[0;34m[\u001b[0m\u001b[0;36m0\u001b[0m\u001b[0;34m]\u001b[0m\u001b[0;34m,\u001b[0m \u001b[0mh\u001b[0m\u001b[0;34m)\u001b[0m\u001b[0;34m\u001b[0m\u001b[0;34m\u001b[0m\u001b[0m\n\u001b[1;32m     17\u001b[0m     \u001b[0mu\u001b[0m\u001b[0;34m[\u001b[0m\u001b[0;36m2\u001b[0m\u001b[0;34m]\u001b[0m \u001b[0;34m=\u001b[0m \u001b[0mrunge_kutta\u001b[0m\u001b[0;34m(\u001b[0m\u001b[0mu\u001b[0m\u001b[0;34m[\u001b[0m\u001b[0;36m1\u001b[0m\u001b[0;34m]\u001b[0m\u001b[0;34m,\u001b[0m \u001b[0mh\u001b[0m\u001b[0;34m)\u001b[0m\u001b[0;34m\u001b[0m\u001b[0;34m\u001b[0m\u001b[0m\n",
      "\u001b[0;31mValueError\u001b[0m: setting an array element with a sequence."
     ]
    }
   ],
   "source": [
    "f = f_true\n",
    "u_0 = np.array([1, 1])\n",
    "print(f_true(u_0))\n",
    "u, times = am3_diffeq(u_0, 0,5, 50)"
   ]
  },
  {
   "cell_type": "code",
   "execution_count": null,
   "metadata": {},
   "outputs": [],
   "source": [
    "delay\n",
    "ffreak\n",
    "cause\n",
    "saute\n",
    "dream\n",
    "pantblackallow\n"
   ]
  },
  {
   "cell_type": "code",
   "execution_count": null,
   "metadata": {},
   "outputs": [],
   "source": []
  },
  {
   "cell_type": "code",
   "execution_count": 38,
   "metadata": {},
   "outputs": [],
   "source": [
    "#Backwards Euler (Implicit) Method\n",
    "def beuler(u_0,T,dt):\n",
    "#     h = abs(tn-t0)/n\n",
    "#     t = linspace(0,tn,n+1)\n",
    "    \n",
    "    h = dt\n",
    "    times = np.arange(0,T+dt,dt)\n",
    "    n = len(times)-1\n",
    "    y = zeros(n+1)\n",
    "    y[0] = y0\n",
    "    for k in range(0,n):\n",
    "        err = 1\n",
    "        zold = y[k] + h*f(t[k],y[k]) #Use Forward Euler for initial guess \n",
    "        I=0\n",
    "        #Use Newton’s Method to solve implicit equation for y[k+1]\n",
    "        while err > 10**(-10) and I < 5: #NM is limited to 5 iterations\n",
    "                F  = y[k] + h*f(t[k+1],zold)-zold\n",
    "                dF = h*dfy(t[k+1],zold)-1\n",
    "                znew = zold - F/dF\n",
    "                err = abs(znew-zold)\n",
    "                zold = znew\n",
    "                I +=1\n",
    "        y[k+1] = znew\n",
    "    return y"
   ]
  },
  {
   "cell_type": "code",
   "execution_count": null,
   "metadata": {},
   "outputs": [],
   "source": []
  },
  {
   "cell_type": "code",
   "execution_count": 14,
   "metadata": {},
   "outputs": [],
   "source": [
    "def am4(u_0,T,delta_t):\n",
    "    time = np.arange(0, T + delta_t, delta_t)\n",
    "    u = np.zeros([len(time), len(u_0)])\n",
    "    for i in range(len(time)):\n",
    "        if i == 0:\n",
    "            u[0] = u_0 \n",
    "        elif i == 1:\n",
    "            u[1] = runge_kutta(u[0], delta_t)\n",
    "        elif i == 2:\n",
    "            u[2] = runge_kutta(u[1], delta_t)\n",
    "        elif i == 3:\n",
    "            u[3] = runge_kutta(u[2], delta_t)    \n",
    "        elif(i > 2):\n",
    "            #u[i] = u_k+1\n",
    "            #u[i-1] = u_k\n",
    "            #u[i-2] = u_k-1\n",
    "            #u[i-3] = u_k-2  \n",
    "            #u[i-4] = u_k-3\n",
    "            u[i] = u[i-1] + delta_t/720 * (\n",
    "                -19* f_true(u[i-4]) + 106*f_true(u[i-3]) - 264*f_true(u[i-2]) + 646*f_true(u[i-1]) + 251*f_true(u[i]) \n",
    "            )\n",
    "    return u,time"
   ]
  },
  {
   "cell_type": "code",
   "execution_count": 17,
   "metadata": {},
   "outputs": [],
   "source": [
    "def f_true(u, b=2, p=1, g=1, d=3):\n",
    "    \"\"\"Returns the output dynamics vector for a given u and t for the Lotka-Volterra model. I.e., returns u_dot = f(u, t). \n",
    "    \n",
    "    Parameters\n",
    "    ----------\n",
    "    u : array_like\n",
    "        Current state vector [u0, u1] = [number of prey, number of predators]\n",
    "    b : float_like\n",
    "        Birth rate of prey\n",
    "    p : float_like\n",
    "        effect of predators on prey\n",
    "    g : float_like\n",
    "        Population growth of predators due to consumption of prey\n",
    "    d : float_like\n",
    "        Death rate of predators due to natural circumstances\n",
    "        \n",
    "    Returns\n",
    "    -------\n",
    "    u_dot : array\n",
    "        Vector of output dynamics for a given u and t, where the first element represents prey dynamics and the second element represent predator dynamics [u_dot1, u_dot2]\n",
    "    \n",
    "    \"\"\"\n",
    "\n",
    "    ### YOUR CODE HERE ###\n",
    "    du_0 = (b - p*u[1]) * u[0]\n",
    "    du_1 = (g*u[0] - d) * u[1]\n",
    "    \n",
    "    u_dot = np.array([du_0,du_1])\n",
    "    return u_dot"
   ]
  },
  {
   "cell_type": "code",
   "execution_count": 37,
   "metadata": {},
   "outputs": [
    {
     "ename": "IndexError",
     "evalue": "index 1001 is out of bounds for axis 0 with size 1001",
     "output_type": "error",
     "traceback": [
      "\u001b[0;31m---------------------------------------------------------------------------\u001b[0m",
      "\u001b[0;31mIndexError\u001b[0m                                Traceback (most recent call last)",
      "\u001b[0;32m<ipython-input-37-330057d7ca34>\u001b[0m in \u001b[0;36m<module>\u001b[0;34m\u001b[0m\n\u001b[1;32m      3\u001b[0m \u001b[0mT\u001b[0m \u001b[0;34m=\u001b[0m \u001b[0;36m50\u001b[0m\u001b[0;34m\u001b[0m\u001b[0;34m\u001b[0m\u001b[0m\n\u001b[1;32m      4\u001b[0m \u001b[0mdelta_t\u001b[0m \u001b[0;34m=\u001b[0m \u001b[0;36m5e-2\u001b[0m\u001b[0;34m\u001b[0m\u001b[0;34m\u001b[0m\u001b[0m\n\u001b[0;32m----> 5\u001b[0;31m \u001b[0mu\u001b[0m\u001b[0;34m,\u001b[0m \u001b[0mtimes\u001b[0m \u001b[0;34m=\u001b[0m \u001b[0mPreCorr3\u001b[0m\u001b[0;34m(\u001b[0m\u001b[0mu_0\u001b[0m\u001b[0;34m,\u001b[0m \u001b[0mT\u001b[0m\u001b[0;34m,\u001b[0m \u001b[0mdelta_t\u001b[0m\u001b[0;34m)\u001b[0m\u001b[0;34m\u001b[0m\u001b[0;34m\u001b[0m\u001b[0m\n\u001b[0m\u001b[1;32m      6\u001b[0m \u001b[0;34m\u001b[0m\u001b[0m\n\u001b[1;32m      7\u001b[0m \u001b[0;31m# check output\u001b[0m\u001b[0;34m\u001b[0m\u001b[0;34m\u001b[0m\u001b[0;34m\u001b[0m\u001b[0m\n",
      "\u001b[0;32m<ipython-input-33-0f664b6d7810>\u001b[0m in \u001b[0;36mPreCorr3\u001b[0;34m(u_0, T, dt)\u001b[0m\n\u001b[1;32m     18\u001b[0m         \u001b[0mK1\u001b[0m \u001b[0;34m=\u001b[0m \u001b[0mf_true\u001b[0m\u001b[0;34m(\u001b[0m\u001b[0mu\u001b[0m\u001b[0;34m[\u001b[0m\u001b[0mi\u001b[0m\u001b[0;34m]\u001b[0m\u001b[0;34m)\u001b[0m\u001b[0;34m\u001b[0m\u001b[0;34m\u001b[0m\u001b[0m\n\u001b[1;32m     19\u001b[0m         \u001b[0;31m#Adams-Bashforth Predictor\u001b[0m\u001b[0;34m\u001b[0m\u001b[0;34m\u001b[0m\u001b[0;34m\u001b[0m\u001b[0m\n\u001b[0;32m---> 20\u001b[0;31m         \u001b[0my\u001b[0m\u001b[0;34m[\u001b[0m\u001b[0mi\u001b[0m\u001b[0;34m+\u001b[0m\u001b[0;36m1\u001b[0m\u001b[0;34m]\u001b[0m \u001b[0;34m=\u001b[0m \u001b[0my\u001b[0m\u001b[0;34m[\u001b[0m\u001b[0mi\u001b[0m\u001b[0;34m]\u001b[0m \u001b[0;34m+\u001b[0m \u001b[0mh\u001b[0m\u001b[0;34m*\u001b[0m\u001b[0;34m(\u001b[0m\u001b[0;36m23\u001b[0m\u001b[0;34m*\u001b[0m\u001b[0mK1\u001b[0m\u001b[0;34m-\u001b[0m\u001b[0;36m16\u001b[0m\u001b[0;34m*\u001b[0m\u001b[0mK2\u001b[0m\u001b[0;34m+\u001b[0m\u001b[0;36m5\u001b[0m\u001b[0;34m*\u001b[0m\u001b[0mK3\u001b[0m\u001b[0;34m)\u001b[0m\u001b[0;34m/\u001b[0m\u001b[0;36m12\u001b[0m\u001b[0;34m\u001b[0m\u001b[0;34m\u001b[0m\u001b[0m\n\u001b[0m\u001b[1;32m     21\u001b[0m         \u001b[0mK0\u001b[0m \u001b[0;34m=\u001b[0m \u001b[0mf\u001b[0m\u001b[0;34m(\u001b[0m\u001b[0mu\u001b[0m\u001b[0;34m[\u001b[0m\u001b[0mi\u001b[0m\u001b[0;34m+\u001b[0m\u001b[0;36m1\u001b[0m\u001b[0;34m]\u001b[0m\u001b[0;34m)\u001b[0m\u001b[0;34m\u001b[0m\u001b[0;34m\u001b[0m\u001b[0m\n\u001b[1;32m     22\u001b[0m         \u001b[0;31m#Adams-Moulton Corrector\u001b[0m\u001b[0;34m\u001b[0m\u001b[0;34m\u001b[0m\u001b[0;34m\u001b[0m\u001b[0m\n",
      "\u001b[0;31mIndexError\u001b[0m: index 1001 is out of bounds for axis 0 with size 1001"
     ]
    }
   ],
   "source": [
    "f = f_true\n",
    "u_0 = np.array([1, 1])\n",
    "T = 50\n",
    "delta_t = 5e-2\n",
    "u, times = PreCorr3(u_0, T, delta_t)\n",
    "\n",
    "# check output\n",
    "u_final_solution = [6.39420193, 0.85162253]\n",
    "print('solution u[K,:]: ', u_final_solution)\n",
    "print('output u[K,:]: ', u[-1,:])\n",
    "#np.testing.assert_allclose(u[-1,:], u_final_solution)\n",
    "# print('TESTS PASSED')"
   ]
  },
  {
   "cell_type": "code",
   "execution_count": 7,
   "metadata": {},
   "outputs": [],
   "source": [
    "#Your Answer here\n",
    "def f_true_no_drag(u):\n",
    "    \"\"\"Returns the output dynamics vector for a given u and t for the Lotka-Volterra model. I.e., returns u_dot = f(u, t). \n",
    "    \n",
    "    Parameters\n",
    "    ----------\n",
    "    u : array_like\n",
    "        Current state vector [u0, u1] = [number of prey, number of predators]\n",
    "        \n",
    "    Returns\n",
    "    -------\n",
    "    u_dot : array\n",
    "        Vector of output dynamics for a given u and t, where the first element represents prey dynamics and the second element represent predator dynamics [u_dot1, u_dot2]\n",
    "    \n",
    "    \"\"\"\n",
    "\n",
    "    ### YOUR CODE HERE ###\n",
    "    g = 9.81\n",
    "    u_dot = np.array([u[2],u[3],0,-g])\n",
    "    return u_dot"
   ]
  },
  {
   "cell_type": "code",
   "execution_count": 8,
   "metadata": {},
   "outputs": [],
   "source": [
    "def analytical_solution(u0,T):\n",
    "    ''' s and v are vectors '''\n",
    "    \n",
    "    x0 = u0[0]\n",
    "    y0 = u0[1]\n",
    "    vx = u0[2]\n",
    "    vy = u0[3]\n",
    "    \n",
    "    g = 9.81\n",
    "    xf = x0 + vx*T\n",
    "    yf = y0 + vy*T + 1/2 * -g * T**2\n",
    "    vxf = vx\n",
    "    vyf = vy + -g*T\n",
    "    \n",
    "    uf = [xf,yf,vxf,vyf]\n",
    "    \n",
    "    \n",
    "    return uf"
   ]
  },
  {
   "cell_type": "code",
   "execution_count": 10,
   "metadata": {},
   "outputs": [
    {
     "data": {
      "image/png": "[encoded data removed]",
      "text/plain": [
       "<Figure size 432x288 with 1 Axes>"
      ]
     },
     "metadata": {
      "needs_background": "light"
     },
     "output_type": "display_data"
    }
   ],
   "source": [
    "f_true = f_true_no_drag\n",
    "T = 4.1\n",
    "dt = .001\n",
    "times = np.arange(0,T+dt,dt)\n",
    "\n",
    "u0 = [0,0,20,20]\n",
    "# plot analytical\n",
    "solx = []\n",
    "soly = []\n",
    "for i in times:\n",
    "    uf =analytical_solution(u0,i)\n",
    "    solx.append(uf[0])\n",
    "    soly.append(uf[1])\n",
    "plt.plot(solx,soly,'r-', label = 'Analytical Solution')\n",
    "\n",
    "# plot approx\n",
    "u,times = am3(u0,T,dt)\n",
    "plt.plot(u[:,0],u[:,1], 'b--', label = 'Approximate Solution')\n",
    "plt.legend()\n",
    "plt.xlabel('x (m)')\n",
    "plt.ylabel('y (m)')\n",
    "plt.title('Analytical vs Approximate Solution of Motion with NO Drag')\n",
    "plt.show()"
   ]
  },
  {
   "cell_type": "code",
   "execution_count": null,
   "metadata": {},
   "outputs": [],
   "source": []
  }
 ],
 "metadata": {
  "kernelspec": {
   "display_name": "Python 3",
   "language": "python",
   "name": "python3"
  },
  "language_info": {
   "codemirror_mode": {
    "name": "ipython",
    "version": 3
   },
   "file_extension": ".py",
   "mimetype": "text/x-python",
   "name": "python",
   "nbconvert_exporter": "python",
   "pygments_lexer": "ipython3",
   "version": "3.7.6"
  }
 },
 "nbformat": 4,
 "nbformat_minor": 4
}
