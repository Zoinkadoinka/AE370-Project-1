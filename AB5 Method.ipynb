{
 "cells": [
  {
   "cell_type": "markdown",
   "id": "c3741605",
   "metadata": {
    "id": "c3741605"
   },
   "source": [
    "**Individual Project**"
   ]
  },
  {
   "cell_type": "markdown",
   "id": "24b9fb25",
   "metadata": {
    "id": "24b9fb25"
   },
   "source": [
    "In this individual portion of the project you will learn to develop numerical methods for second order IVPs of the form $\\ddot{\\boldsymbol{u}}=\\boldsymbol{g}(\\dot{\\boldsymbol{u}}, \\boldsymbol{u}, t)$, by finding a protocol to express them as first order IVPs. This transformation will let you use the same numerical methods we developed for first order IVPs of the form $\\dot{\\boldsymbol{u}}= \\boldsymbol{f}(\\boldsymbol{u}, t)$. (Note that there are also numerical methods designed specifically for second order IVPs, that solve them in their second-order form. So the approach we are taking here is not the only possible one).\n",
    "\n",
    "In particular, you will consider the second order IVP that governs the motion of the projectile under a crude approximation for drag. Let us say that you are about to hit a baseball and you want to know how far it will go. The equations of motion are given by Newton's second law. Defining the baseball to have mass $m$ and vector position and velocity $\\boldsymbol{x}=[x_x, x_y]^T$, $\\boldsymbol{v}=[v_x, v_y]^T:=\\dot{\\boldsymbol{x}}=[\\dot{x}_x, \\dot{x}_y]^T$, respectively, we have for the $x$- and $y$- force balances:\n",
    "\\begin{gather}\n",
    "  \\ddot{x}_x = -\\frac{1}{m} D_x, \\tag{1} \\\\\n",
    "  \\ddot{x}_y = \\left( -g -\\frac{ D_y}{m} \\right) \\tag{2},\n",
    "\\end{gather}\n",
    "where $D_x$ and $D_y$ are the $x$- and $y$- components of a crude model for the drag force $\\boldsymbol{D}$, given by \n",
    "\\begin{equation}\n",
    "   D_x = \\alpha ||\\boldsymbol{v}|| v_x, \\quad D_y = \\alpha ||\\boldsymbol{v}|| v_y. \\tag{3}\n",
    "\\end{equation}\n",
    "\n",
    "In these expressions for drag, the constant $\\alpha = \\rho CA/2$, where $\\rho$ is the density of air, $A$ is the silhouette area (the body's area as seen from the front), and $C$ is the *drag coefficient* that depends on the shape of the body."
   ]
  },
  {
   "cell_type": "markdown",
   "id": "520ae1d0",
   "metadata": {
    "id": "520ae1d0"
   },
   "source": [
    "\n",
    "**Q1.** Define the vector $\\boldsymbol{u} = [x_x, x_y, v_x, v_y]^T$. Find an equation that recasts Newton's second law as $\\dot{\\boldsymbol{u}}=\\boldsymbol{f}(\\boldsymbol{u})$. Be clear about what $\\boldsymbol{f}(\\boldsymbol{u})$ is in your answer. The final answer should have four equations: two that relate the position to the velocity and two that involve Newton's second law in the $x$- and $y$- directions. *Hint: You may find the W5LW typed notes **very** helpful here.*. "
   ]
  },
  {
   "cell_type": "markdown",
   "id": "b38af664",
   "metadata": {
    "id": "b38af664"
   },
   "source": [
    "See attached PDF"
   ]
  },
  {
   "cell_type": "markdown",
   "id": "c606f1b4",
   "metadata": {
    "id": "c606f1b4"
   },
   "source": [
    "Congratulations, you can now use the first-order numerical methods you developed in class to solve second-order problems!"
   ]
  },
  {
   "cell_type": "markdown",
   "id": "78ea652c",
   "metadata": {
    "id": "78ea652c"
   },
   "source": [
    "**Q2.** Derive the AB3 method to solve this problem, and demonstrate that the truncation error for this method scales as $O(\\Delta t^3)$. Your derivation of the method and the error should parallel the lectures and most recent homework."
   ]
  },
  {
   "cell_type": "markdown",
   "id": "b866a3e5",
   "metadata": {
    "id": "b866a3e5"
   },
   "source": [
    "See attached PDF"
   ]
  },
  {
   "cell_type": "markdown",
   "id": "3cc95a7b",
   "metadata": {
    "id": "3cc95a7b"
   },
   "source": [
    "**Q3.** For the case **without** drag considerations, determine the analytical solution. Then, apply your numerical method (AB3) to that problem (without drag) for decreasing values of $\\Delta t$ and observe the error convergence plot. Does your convergence plot scale differently from the $O(\\Delta t^3)$ that you derived in **Q2**? Why or why not? Explain the plot using a markdown cell. Be sure to pick appropriate initial conditions and time step size $\\Delta t$. "
   ]
  },
  {
   "cell_type": "markdown",
   "id": "dbaf6aab",
   "metadata": {},
   "source": [
    "Define true function without drag"
   ]
  },
  {
   "cell_type": "code",
   "execution_count": 12,
   "id": "bb2f908d",
   "metadata": {},
   "outputs": [],
   "source": [
    "# don't forget to import any Python libraries required for your function...\n",
    "import numpy as np\n",
    "def f_true(u):\n",
    "    u_dot = np.array([u[2],u[3],0,ay])\n",
    "    return u_dot"
   ]
  },
  {
   "cell_type": "markdown",
   "id": "f860acd3",
   "metadata": {},
   "source": [
    "Define analytical solution without drag"
   ]
  },
  {
   "cell_type": "code",
   "execution_count": 13,
   "id": "260a7caa",
   "metadata": {},
   "outputs": [],
   "source": [
    "def analytical(u_0, T, delta_t,ax,ay):\n",
    "    \"\"\"Returns the analytical solution of the system state\n",
    "    \n",
    "    Parameters\n",
    "    ----------\n",
    "    u_0 : array\n",
    "        1 x 4 array defining the initial state vector u_0 where\n",
    "        \n",
    "        u[0] = initial x position\n",
    "        u[1] = initial y position\n",
    "        u[2] = initial x velocity\n",
    "        u[3] = initial y velocity\n",
    "        \n",
    "    T : float_like\n",
    "        Final time T\n",
    "    delta_t : float_like\n",
    "        Time step size where delta_t = t_{k+1} - t_k\n",
    "    ax : x-direction acceleration\n",
    "    ay : y-direction acceleration\n",
    "        \n",
    "    Returns\n",
    "    -------\n",
    "    u_analytical\n",
    "    times_analytical\n",
    "    \n",
    "    \"\"\"    \n",
    "    \n",
    "    times_analytical = np.arange(0, T+delta_t, delta_t)\n",
    "    u_analytical = np.zeros((len(times_analytical),len(u_0)))\n",
    "    #print(u_analytical.shape)\n",
    "    \n",
    "    x_0  = u_0[0]\n",
    "    y_0  = u_0[1]\n",
    "    vx_0 = u_0[2]\n",
    "    vy_0 = u_0[3]\n",
    "    \n",
    "    for i in range(len(times_analytical)):\n",
    "        if i == 0:\n",
    "            u_analytical[0] = u_0\n",
    "        else: \n",
    "            x = x_0 + vx_0*times_analytical[i] + .5*ax*times_analytical[i]**2\n",
    "            y = y_0 + vy_0*times_analytical[i] + .5*ay*times_analytical[i]**2\n",
    "            vx = vx_0 + ax*times_analytical[i]\n",
    "            vy = vy_0 + ay*times_analytical[i]\n",
    "            u_analytical[i] = np.array([x,y,vx,vy])\n",
    "            \n",
    "    return u_analytical, times_analytical"
   ]
  },
  {
   "cell_type": "markdown",
   "id": "0ceaf518",
   "metadata": {},
   "source": [
    "Define 4-stage Runge-Kutta for AB3 method"
   ]
  },
  {
   "cell_type": "code",
   "execution_count": 14,
   "id": "07698eae",
   "metadata": {},
   "outputs": [],
   "source": [
    "def runge_kutta(u_k, delta_t):\n",
    "    y1 = f_true(u_k)\n",
    "    y2 = f_true(u_k + (1/2)*delta_t*y1)\n",
    "    y3 = f_true(u_k + (1/2)*delta_t*y2)\n",
    "    y4 = f_true(u_k + delta_t*y3)\n",
    "    u_kplus1 = u_k + (1/6)*delta_t*(y1 + 2*y2 + 2*y3 + y4)\n",
    "    return u_kplus1"
   ]
  },
  {
   "cell_type": "markdown",
   "id": "30fe5e4b",
   "metadata": {},
   "source": [
    "Define AB3 method"
   ]
  },
  {
   "cell_type": "code",
   "execution_count": 15,
   "id": "f4d02faa",
   "metadata": {},
   "outputs": [],
   "source": [
    "import numpy as np\n",
    "def ivp_ab5(u_0, T, delta_t):\n",
    "    \"\"\"Returns the predicted system evolution over time using the 2-step Adams-Bashforth method.\n",
    "\n",
    "    This function assumes an f_true(u) function is globally available for calculating the true function value at u.\n",
    "    \n",
    "    Parameters\n",
    "    ----------\n",
    "    u_0 : array\n",
    "        1 x N array defining the initial state vector u_0 where N = number of state variables = |u|\n",
    "    T : float_like\n",
    "        Final time T\n",
    "    delta_t : float_like\n",
    "        Time step size where delta_t = t_{k+1} - t_k\n",
    "        \n",
    "    Returns\n",
    "    -------\n",
    "    u : array\n",
    "        K x N array of the predicted states where row k is the state at time step k and K = number of time steps\n",
    "    times : array_like\n",
    "        Length K vector containing the times t corresponding to time steps\n",
    "    \"\"\"\n",
    "    \n",
    "    ### YOUR CODE HERE ###\n",
    "    times = np.arange(0,T+delta_t,delta_t)\n",
    "    u = np.zeros((len(times),len(u_0)))\n",
    "    for i in range(len(times)):\n",
    "        if i == 0:\n",
    "            u[0] = u_0\n",
    "        elif i == 1:\n",
    "            u[1] = runge_kutta(u[0], delta_t)\n",
    "        elif i == 2:\n",
    "            u[2] = runge_kutta(u[1], delta_t)\n",
    "        elif i == 3:\n",
    "            u[3] = runge_kutta(u[2], delta_t)\n",
    "        elif i == 4:\n",
    "            u[4] = runge_kutta(u[3], delta_t)\n",
    "        else :\n",
    "            u[i] = delta_t/720 * (251*f_true(u[i-5]) - 1274*f_true(u[i-4]) + 2616*f_true(u[i-3]) - 2774*f_true(u[i-2]) + 1901*f_true(u[i-1])) + u[i-1]\n",
    "    return u, times\n",
    "    "
   ]
  },
  {
   "cell_type": "markdown",
   "id": "45b30d51",
   "metadata": {},
   "source": [
    "Define AB5 error"
   ]
  },
  {
   "cell_type": "code",
   "execution_count": 16,
   "id": "c0a9cd4f",
   "metadata": {},
   "outputs": [],
   "source": [
    "def ivp_ab5_error(u_0, T, delta_t):\n",
    "    \"\"\"Returns the error in the predicted final system state when using delta_t relative to delta_t_baseline for the 2-step Adams Bashforth method.\n",
    "\n",
    "    This function assumes an f_true(u) function is globally available for calculating the true function value at u.\n",
    "    \n",
    "    Parameters\n",
    "    ----------\n",
    "    u_0 : array\n",
    "        1 x N array defining the initial state vector u_0 where N = number of state variables = |u|\n",
    "    T : float_like\n",
    "        Final time T\n",
    "    delta_t : float_like\n",
    "        Time step size where delta_t = t_{k+1} - t_k\n",
    "    delta_t_basleine : float_like\n",
    "        Baseline time step size where delta_t_baseline = t_{k+1} - t_k\n",
    "        \n",
    "    Returns\n",
    "    -------\n",
    "    err : float\n",
    "        Error calculated as ||u_final_delta_t - u_final_delta_t_baseline|| / ||u_final_delta_t_baseline||, where u_final_delta_t is the final predicted state when using delta_t\n",
    "    \"\"\"\n",
    "    \n",
    "    ### YOUR CODE HERE ###\n",
    "    u_ab5, times_ab5 = ivp_ab5(u_0, T, delta_t)\n",
    "    u_t_ab5_final = u_ab5[-1]\n",
    "    # predict final state using delta_t_baseline\n",
    "    u, times = analytical(u_0, T, delta_t, ax, ay)\n",
    "    u_t_analytical_final = u[-1]\n",
    "    # calculate error\n",
    "    e = np.linalg.norm(u_t_ab5_final - u_t_analytical_final)/np.linalg.norm(u_t_analytical_final)\n",
    "    return e"
   ]
  },
  {
   "cell_type": "markdown",
   "id": "3f1a2387",
   "metadata": {},
   "source": [
    "Plot AB3 error compared to analytical solution and plot trajejectory predicted by AB3 method compared to trajectory of analytical solution"
   ]
  },
  {
   "cell_type": "code",
   "execution_count": 17,
   "id": "ecc889c2",
   "metadata": {},
   "outputs": [
    {
     "data": {
      "text/plain": [
       "<matplotlib.legend.Legend at 0x289a9d2a0a0>"
      ]
     },
     "execution_count": 17,
     "metadata": {},
     "output_type": "execute_result"
    },
    {
     "data": {
      "image/png": "[encoded data removed]",
      "text/plain": [
       "<Figure size 400x300 with 1 Axes>"
      ]
     },
     "metadata": {},
     "output_type": "display_data"
    },
    {
     "data": {
      "image/png": "[encoded data removed]",
      "text/plain": [
       "<Figure size 800x600 with 1 Axes>"
      ]
     },
     "metadata": {},
     "output_type": "display_data"
    }
   ],
   "source": [
    "import numpy as np\n",
    "import matplotlib.pyplot as plt\n",
    "plt.style.use('default')\n",
    "\n",
    "ax = 0\n",
    "ay = -9.81\n",
    "vx_0 = 28\n",
    "vy_0 = 28\n",
    "x_0 = 0\n",
    "y_0 = .47\n",
    "\n",
    "u_0 = np.array([x_0,y_0,vx_0,vy_0])\n",
    "T = 6\n",
    "delta_t = 5e-4\n",
    "\n",
    "u_ab5, times_ab5 = ivp_ab5(u_0, T, delta_t)\n",
    "\n",
    "# Part 2\n",
    "\n",
    "AB5_err_list = []\n",
    "\n",
    "deltas = [5e-2,2.5e-2,1e-2,5e-3,2.5e-3,1e-3,5e-4]\n",
    "for t in deltas:\n",
    "    # Adams Bashforth 3\n",
    "    AB5_err = ivp_ab5_error(u_0, T, t)\n",
    "    \n",
    "    # Save data to lists\n",
    "    AB5_err_list.append(AB5_err)\n",
    "\n",
    "fig = plt.figure(figsize=(4, 3), tight_layout=True)\n",
    "ax1 = fig.add_subplot(111)\n",
    "ax1.plot(deltas, AB5_err_list, 'r*-', label = 'AB5 Error')\n",
    "ax1.set_xlabel('$\\Delta t$')\n",
    "ax1.set_ylabel('Error')\n",
    "ax1.set_xscale('log')\n",
    "ax1.set_yscale('log')\n",
    "ax1.legend()\n",
    "\n",
    "import matplotlib.pyplot as plt\n",
    "plt.style.use('default')\n",
    "\n",
    "fig2 = plt.figure(figsize=(8, 6), tight_layout=True)\n",
    "ax2 = fig2.add_subplot(221)\n",
    "u_a, times_a = analytical(u_0,T,delta_t,ax,ay)\n",
    "u,times = ivp_ab5(u_0,T,delta_t)\n",
    "ax2.plot(u_a[:,0],u_a[:,1],\"k\", label = \"true\")\n",
    "ax2.plot(u[:,0],u[:,1],\"y--\", label = \"approx\")\n",
    "ax2.set_ylim(0,50)\n",
    "ax2.set_xlabel('Vertical Position (m)')\n",
    "ax2.set_ylabel('Horizontal Position (m)')\n",
    "ax2.legend()"
   ]
  },
  {
   "cell_type": "markdown",
   "id": "9b5ed0d5",
   "metadata": {},
   "source": [
    "Q3 MARKDOWN\n",
    "\n",
    "The initial conditions were chosen with the assumption that the projectile being analyzed is a baseball. The initial speed of the baseball was assumed to be 91 mph according to source 1. Assuming the strike angle is 45 degrees, the initial x-velocity and y-velocities are approximately 28 m/s each. The initial distance off the ground is assumed to be 18\" or .47 meters, according to source 2. The initial x-position is assumed to be 0. Drag was ignored per the problem statement.\n",
    "\n",
    "Looking at the error plot, the error does not scale with decrease in $\\Delta t$ with the relation $O(\\Delta t^3)$. The error values are all very small. This is likely due to the AB3 method being a third order method being applied to a second order problem. This should theoretically result in an exact solution. It can be concluded that the very low error is likely due to the rounding limitations of computer hardware.\n",
    "\n",
    "Source 1: for average speed of baseball off bat: https://www.elitediamondperformance.com/blog/2017/5/12/the-importance-of-ball-exit-speed\n",
    "Source 2: for initial height off the ground: https://baseballtrainingworld.com/understanding-the-strike-zone-in-baseball/"
   ]
  },
  {
   "cell_type": "markdown",
   "id": "a4e013ce",
   "metadata": {
    "id": "a4e013ce"
   },
   "source": [
    "**Q4.** Pick appropriate values for $\\rho$, $C$, and $A$ (citing references as needed). Simulate the problem **with** drag now, using an appropriate value of $\\Delta t$. Be sure you justify your choice in $\\Delta t$ value. Create a single plot that compares the trajectories with and without drag. In a sentence or two, comment on how drag changes the resulting trajectory."
   ]
  },
  {
   "cell_type": "markdown",
   "id": "210e3d48",
   "metadata": {},
   "source": [
    "Set constants"
   ]
  },
  {
   "cell_type": "code",
   "execution_count": 18,
   "id": "42cfa745",
   "metadata": {},
   "outputs": [],
   "source": [
    "#Defining the initial conditions: \n",
    "rho = 1.225\n",
    "A = 0.004185\n",
    "m = 0.145\n",
    "Cd = 0.3\n",
    "alpha = rho*Cd*A/2"
   ]
  },
  {
   "cell_type": "markdown",
   "id": "df2cfc17",
   "metadata": {},
   "source": [
    "Define function with drag"
   ]
  },
  {
   "cell_type": "code",
   "execution_count": 19,
   "id": "b32327ac",
   "metadata": {
    "id": "1ba453ff"
   },
   "outputs": [],
   "source": [
    "def f_true_drag(u):\n",
    "    vx = u[2]\n",
    "    vy = u[3]\n",
    "    v_mag = np.sqrt(vx**2 + vy**2)\n",
    "    ax = (-1/m)*alpha*v_mag*vx\n",
    "    ay = -9.81-(alpha*v_mag*vy/m)\n",
    "    \n",
    "    u_dot = np.array([vx,vy,ax,ay])\n",
    "    \n",
    "    return u_dot"
   ]
  },
  {
   "cell_type": "markdown",
   "id": "8e92b254",
   "metadata": {},
   "source": [
    "Plot trajectory with and without drag"
   ]
  },
  {
   "cell_type": "code",
   "execution_count": 20,
   "id": "c5b03f86",
   "metadata": {},
   "outputs": [
    {
     "data": {
      "text/plain": [
       "<matplotlib.legend.Legend at 0x289ab4ad8e0>"
      ]
     },
     "execution_count": 20,
     "metadata": {},
     "output_type": "execute_result"
    },
    {
     "data": {
      "image/png": "[encoded data removed]",
      "text/plain": [
       "<Figure size 800x600 with 1 Axes>"
      ]
     },
     "metadata": {},
     "output_type": "display_data"
    }
   ],
   "source": [
    "import matplotlib.pyplot as plt\n",
    "plt.style.use('default')\n",
    "\n",
    "vx_0 = 28\n",
    "vy_0 = 28\n",
    "x_0 = 0\n",
    "y_0 = .47\n",
    "\n",
    "u_0 = np.array([x_0,y_0,vx_0,vy_0])\n",
    "T = 7\n",
    "delta_t = 5e-4\n",
    "\n",
    "fig1 = plt.figure(figsize=(8, 6), tight_layout=True)\n",
    "ax1 = fig1.add_subplot(221)\n",
    "\n",
    "##Plot AB3 without drag\n",
    "def f_true(u):\n",
    "    u_dot = np.array([u[2],u[3],0,ay])\n",
    "    return u_dot\n",
    "\n",
    "u,times = ivp_ab5(u_0,T,delta_t)\n",
    "\n",
    "##Plot AB3 with drag\n",
    "f_true = f_true_drag\n",
    "u_d,times_d = ivp_ab5(u_0,T,delta_t)\n",
    "\n",
    "ax1.plot(u_d[:,0],u_d[:,1],\"k\", label = \"drag\")\n",
    "ax1.plot(u[:,0],u[:,1],\"r\", label = \"no drag\")\n",
    "ax1.set_ylim(0,50)\n",
    "ax1.set_xlim(0,200)\n",
    "ax1.set_xlabel('Vertical Position (m)')\n",
    "ax1.set_ylabel('Horizontal Position (m)')\n",
    "ax1.legend()"
   ]
  },
  {
   "cell_type": "markdown",
   "id": "99484968",
   "metadata": {},
   "source": [
    "Q4 MARKDOWN\n",
    "\n",
    "Existing initial conditions are carried over from question 3. The strike angle is assumed to be 45 degrees. The initial x-velocity and y-velocities are approximately 28 m/s each. The initial distance off the ground is assumed to be .47 meters, according to source 2. The initial x-position is assumed to be 0. \n",
    "\n",
    "For values pertaining to drag, the air density (rho) was assumed to be 1.225 kg/m^3 (source 3), assuming the radius of the baseball is 0.0365m, the cross sectional area of the baseball was calculated to be .004185 m^2 (Source 4), the mass of the baseball is assumed to be .0145 kg (source 5), and lastly, the drag coefficient (Cd) was assumed to be 0.3 (source 6).\n",
    "\n",
    "As seen in the plot, drag due to air resistance has a non-negligible effect on the trajectory of the baseball. In fact, in the case without drag, the baseball traveled approximately 1.6 times as far as the case with drag. This makes sense as drag adds a component of acceleration that is tangent and opposite the trajectory of the baseball.\n",
    "\n",
    "$\\Delta t$ was chosen to be 2.5e-4. This value was chosen because this is approximately the smallest timestep to reach the smallest possible error before hardware limitations become apparent. Decreasing the timestep beyond 2.5e-4 yields diminishing returns as the error will be limited by computer hardware if the timestep is decreased further. A timestep of 2.5e-4 is thus a \"sweetspot\" in terms of keeping error at a minimum while not needlessly increasing computation time. See plot of question 5.\n",
    "\n",
    "Source 1: for average speed of baseball off bat: https://www.elitediamondperformance.com/blog/2017/5/12/the-importance-of-ball-exit-speed\n",
    "Source 2: for initial height off the ground: https://baseballtrainingworld.com/understanding-the-strike-zone-in-baseball/\n",
    "Source 3: for density of air at sea level per standard atmosphere model (1976): https://www.engineeringtoolbox.com/standard-atmosphere-d_604.html\n",
    "Source 4: radius of a baseball: https://sciencing.com/calculate-volume-baseball-8295708.html\n",
    "Source 5: mass of a baseball : https://www.drivelinebaseball.com/2015/04/why-sir-isaac-newton-is-still-the-foremost-expert-in-pitching-biomechanics/#:~:text=The%20mass%20of%20a%20typical,which%20weighs%20about%205%20ounces.\n",
    "Source 6: for drag coefficient of a baseball: https://www1.grc.nasa.gov/beginners-guide-to-aeronautics/drag-on-a-baseball/"
   ]
  },
  {
   "cell_type": "markdown",
   "id": "b779d5b8",
   "metadata": {
    "id": "b779d5b8"
   },
   "source": [
    "**Q5.(Extra credit (up to 5 points))** Now, observe the error convergence plot for the case **with drag**. (You can use u at 'delta_t_baseline' as the reference since there is no analytical solution this time). Does the error convergence look similar to the one obtained for **Q3**? Why or why not? Explain the reason in a markdown cell below"
   ]
  },
  {
   "cell_type": "code",
   "execution_count": 21,
   "id": "6bd0c814",
   "metadata": {
    "id": "6bd0c814"
   },
   "outputs": [],
   "source": [
    "f_true = f_true_drag\n",
    "\n",
    "def ivp_ab5_error_drag(u_0, T, delta_t, delta_t_baseline):\n",
    "    \"\"\"Returns the error in the predicted final system state when using delta_t relative to delta_t_baseline for the 2-step Adams Bashforth method.\n",
    "\n",
    "    This function assumes an f_true(u) function is globally available for calculating the true function value at u.\n",
    "    \n",
    "    Parameters\n",
    "    ----------\n",
    "    u_0 : array\n",
    "        1 x N array defining the initial state vector u_0 where N = number of state variables = |u|\n",
    "    T : float_like\n",
    "        Final time T\n",
    "    delta_t : float_like\n",
    "        Time step size where delta_t = t_{k+1} - t_k\n",
    "    delta_t_basleine : float_like\n",
    "        Baseline time step size where delta_t_baseline = t_{k+1} - t_k\n",
    "        \n",
    "    Returns\n",
    "    -------\n",
    "    err : float\n",
    "        Error calculated as ||u_final_delta_t - u_final_delta_t_baseline|| / ||u_final_delta_t_baseline||, where u_final_delta_t is the final predicted state when using delta_t\n",
    "    \"\"\"\n",
    "    \n",
    "    ### YOUR CODE HERE ###\n",
    "    \n",
    "    # predict final state using delta_t\n",
    "    u_t, times_t = ivp_ab5(u_0, T, delta_t)\n",
    "    u_final_delta_t = u_t[-1]\n",
    "\n",
    "    # predict final state using delta_t_baseline\n",
    "    u_t_baseline, times_baseline = ivp_ab5(u_0, T, delta_t_baseline)\n",
    "    u_final_delta_t_baseline = u_t_baseline[-1]\n",
    "\n",
    "    # calculate error\n",
    "    err = np.linalg.norm(u_final_delta_t-u_final_delta_t_baseline)/np.linalg.norm(u_final_delta_t_baseline)\n",
    "    \n",
    "    return err"
   ]
  },
  {
   "cell_type": "code",
   "execution_count": 22,
   "id": "41f005a5",
   "metadata": {},
   "outputs": [
    {
     "data": {
      "text/plain": [
       "<matplotlib.legend.Legend at 0x289ab71b0d0>"
      ]
     },
     "execution_count": 22,
     "metadata": {},
     "output_type": "execute_result"
    },
    {
     "data": {
      "image/png": "[encoded data removed]",
      "text/plain": [
       "<Figure size 800x600 with 1 Axes>"
      ]
     },
     "metadata": {},
     "output_type": "display_data"
    }
   ],
   "source": [
    "import matplotlib.pyplot as plt\n",
    "plt.style.use('default')\n",
    "\n",
    "##PART 1\n",
    "u_0 = [0,0,28,28]\n",
    "T = 7\n",
    "delta_t = 1e-5\n",
    "\n",
    "## PART 2\n",
    "deltats = [5e-2, 2.5e-2, 1e-2, 5e-3, 2.5e-3, 1e-3, 5e-4,2.5e-4,1e-4,5e-5,2.5e-5]\n",
    "delta_t_baseline = 1e-5\n",
    "ab5_error_drag = []\n",
    "for i in deltats:\n",
    "    ab5_error_drag.append(ivp_ab5_error_drag(u_0, T, i, delta_t_baseline))\n",
    "\n",
    "fig2 = plt.figure(figsize=(8, 6), tight_layout=True)\n",
    "ax1 = fig2.add_subplot(221)\n",
    "ax1.plot(deltats,ab5_error_drag,\"b^-\",label='AB5')\n",
    "ax1.set_title('Error for Varying $\\Delta{t}$')\n",
    "ax1.set_xlabel('$\\Delta{t}$')\n",
    "ax1.set_ylabel('Error')\n",
    "ax1.set_xscale('log')\n",
    "ax1.set_yscale('log')\n",
    "ax1.legend()"
   ]
  },
  {
   "cell_type": "markdown",
   "id": "ce4c04fc",
   "metadata": {},
   "source": [
    "Q5 MARKDOWN\n",
    "\n",
    "Looking at the error plot, the error scales as expected with a $O(\\Delta t^3)$ relationship. As can be seen in the plot, the slope is 3, which, in a log-log graph, is indicative of a 3rd-order power relationship. This is unsurprising as the AB3 method, a third order method, is being applied to a third order problem in the case with drag. I also tested to see where the power relationship would break down. The error appears to bottom out at approximately the same 10e-14 range as did in question 3, which supports my previous claim that the limits of error were likely being reached due to computer hardware limitations. We see that the relationship breaks down at $\\Delta t$ values smaller than 2.5e-4, which justifies the $\\Delta t$ value that I chose for question 4."
   ]
  },
  {
   "cell_type": "code",
   "execution_count": null,
   "id": "8adb34fc",
   "metadata": {},
   "outputs": [],
   "source": []
  }
 ],
 "metadata": {
  "colab": {
   "name": "Individual_project_question.ipynb",
   "provenance": []
  },
  "kernelspec": {
   "display_name": "Python 3 (ipykernel)",
   "language": "python",
   "name": "python3"
  },
  "language_info": {
   "codemirror_mode": {
    "name": "ipython",
    "version": 3
   },
   "file_extension": ".py",
   "mimetype": "text/x-python",
   "name": "python",
   "nbconvert_exporter": "python",
   "pygments_lexer": "ipython3",
   "version": "3.9.7"
  }
 },
 "nbformat": 4,
 "nbformat_minor": 5
}
