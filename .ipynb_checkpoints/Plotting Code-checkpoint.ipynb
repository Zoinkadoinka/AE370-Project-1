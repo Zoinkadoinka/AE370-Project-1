{
 "cells": [
  {
   "cell_type": "markdown",
   "id": "98e5cf9c",
   "metadata": {},
   "source": [
    "This notebook will plot a 3-body problem and calculate the energy of the system over time. "
   ]
  },
  {
   "cell_type": "code",
   "execution_count": 1,
   "id": "efef61c7",
   "metadata": {},
   "outputs": [],
   "source": [
    "# Do necessary imports\n",
    "import numpy as np\n",
    "from matplotlib import pyplot as plt"
   ]
  },
  {
   "cell_type": "code",
   "execution_count": 2,
   "id": "9316edfe",
   "metadata": {},
   "outputs": [],
   "source": [
    "# For the Earth, Sun, Moon 3-body Problem:\n",
    "\n",
    "# Masses of the Planets\n",
    "Me = 6e24                     # Mass of Earth in kg\n",
    "Ms = 2e30                     # Mass of Sun in kg                       \n",
    "Mm = 7.347e22                 # Mass of Moon in kg\n",
    "\n",
    "# Initial Positions of the Planets (vectors)\n",
    "Re = [1.496e11*1,0,0] #1 AU away from the sun converted to m\n",
    "Rs = [0,0,0]\n",
    "Rm = [1.496e11*5.2,0,0] #5.2 AU away from the sun converted to m\n",
    "\n",
    "# Initial Velocity of the Planets (vectors)\n",
    "# currently random numbers to see if code runs\n",
    "Ve = [0,30e3,0]\n",
    "Vs = [0,0,0]\n",
    "Vm = [0,10e3,0]\n",
    "\n",
    "\n",
    "u_0 = np.array([Re[0], Re[1], Re[2],\n",
    "                Rs[0], Rs[1], Rs[2],\n",
    "                Rm[0], Rm[1], Rm[2],\n",
    "                Ve[0], Ve[1], Ve[2],\n",
    "                Vs[0], Vs[1], Vs[2],\n",
    "                Vm[0], Vm[1], Vm[2]])\n",
    "\n",
    "G = 6.673e-11                 # Gravitational Constant"
   ]
  },
  {
   "cell_type": "code",
   "execution_count": 7,
   "id": "1906e2c7",
   "metadata": {},
   "outputs": [],
   "source": [
    "# Calculate the gravitional force on a body given the position vectors and the masses of the bodies\n",
    "# ====================================================================================================================\n",
    "\n",
    "def Gravitational_Force(ri, rj, mi, mj, G=6.673e-11):\n",
    "    return ((G*mi*mj*(rj-ri))/(np.linalg.norm(rj-ri))**3)\n",
    "\n",
    "def force(planet, Re, Rs, Rm):\n",
    "    force_sun_on_earth = Gravitational_Force(Re,Rs,Me,Ms)\n",
    "    force_earth_on_sun = -force_sun_on_earth\n",
    "    force_moon_on_earth = Gravitational_Force(Re,Rm,Me,Mm)\n",
    "    force_earth_on_moon = -force_moon_on_earth\n",
    "    force_sun_on_moon = Gravitational_Force(Rm,Rs,Mm,Ms)\n",
    "    force_moon_on_sun = -force_sun_on_moon\n",
    "    \n",
    "    if planet == \"earth\":\n",
    "        return force_sun_on_earth + force_moon_on_earth\n",
    "    if planet == \"sun\":\n",
    "        return force_earth_on_sun + force_moon_on_sun\n",
    "    if planet == \"moon\":\n",
    "        return force_sun_on_moon + force_earth_on_moon\n",
    "    \n",
    "def acc_planet(planet,Re,Rs,Rm,M):\n",
    "    a = force(planet, Re, Rs, Rm)/M\n",
    "    return a\n",
    "    \n",
    "def f_true(u):\n",
    "    Re = [u[0], u[1], u[2]]\n",
    "    Rs = [u[3], u[4], u[5]]\n",
    "    Rm = [u[6], u[7], u[8]]\n",
    "\n",
    "    a_earth = acc_planet('earth',Re,Rs,Rm,Me)\n",
    "    a_sun = acc_planet('sun',Re,Rs,Rm,Ms)\n",
    "    a_moon = acc_planet('moon',Re,Rs,Rm,Mm)\n",
    "    \n",
    "\n",
    "    udot = np.array([u[9], u[10], u[11],\n",
    "                     u[12], u[13], u[14],\n",
    "                     u[15], u[16], u[17],\n",
    "                     a_earth[0], a_earth[1], a_earth[2],\n",
    "                     a_sun[0], a_sun[1], a_sun[2], \n",
    "                     a_moon[0], a_moon[1], a_moon[2]])\n",
    "    \n",
    "    return udot"
   ]
  },
  {
   "cell_type": "code",
   "execution_count": 8,
   "id": "1bfef3d1",
   "metadata": {},
   "outputs": [],
   "source": [
    "# IVP Forward Euler Code\n",
    "import numpy as np\n",
    "\n",
    "def ivp_forward_euler(u_0, T, delta_t):\n",
    "    \"\"\"Returns the predicted system evolution over time using the forward Euler method.\n",
    "\n",
    "    This function assumes an f_true(u) function is globally available for calculating the true function value at u.\n",
    "    \n",
    "    Parameters\n",
    "    ----------\n",
    "    u_0 : array\n",
    "        1 x N array defining the initial state vector u_0 where N = number of state variables = |u|\n",
    "    T : float_like\n",
    "        Final time T\n",
    "    delta_t : float_like\n",
    "        Time step size where delta_t = t_{k+1} - t_k\n",
    "        \n",
    "    Returns\n",
    "    -------\n",
    "    u : array\n",
    "        K x N array of the predicted states where row k is the state at time step k and K = number of time steps\n",
    "    times : array_like\n",
    "        Length K vector containing the times t corresponding to time steps\n",
    "    \"\"\"\n",
    "    \n",
    "\n",
    "    times = np.arange(0, T+delta_t,delta_t)\n",
    "    u = np.zeros((len(times),len(u_0)))\n",
    "    for i in range(len(times)):\n",
    "        if i == 0:\n",
    "            u[0] = u_0\n",
    "        else:  \n",
    "            u[i] = u[i-1] + delta_t*f_true(u[i-1])\n",
    "    \n",
    "    return u, times\n",
    "    "
   ]
  },
  {
   "cell_type": "code",
   "execution_count": 9,
   "id": "b78c0318",
   "metadata": {},
   "outputs": [],
   "source": [
    "# Functions to calculate energy of the system \n",
    "# ==================================================================================================================\n",
    "\n",
    "# Calculate the kinetic energy\n",
    "def Kinetic_Energy(m,v):\n",
    "    v_n = np.linalg.norm(v)\n",
    "    return 0.5*m*v_n**2\n",
    "\n",
    "# Calculate the magnitude of the potential energy to be used when calculating the total energy\n",
    "def PE_mag(mi,mj,ri,rj,G=6.673e-11):\n",
    "    return G*mi*mj/np.linalg.norm(ri-rj)\n",
    "\n",
    "# Calculate the total energy for the 3-body problem\n",
    "def Total_Energy(m1,m2,m3,r1,r2,r3,v1,v2,v3):\n",
    "    total_KE = Kinetic_Energy(m1,v1)+Kinetic_Energy(m2,v2)+Kinetic_Energy(m3,v3)\n",
    "    total_PE = -(PE_mag(m2,m1,r2,r1)+PE_mag(m3,m1,r3,r1)+PE_mag(m3,m2,r3,r2))\n",
    "    return total_KE + total_PE"
   ]
  },
  {
   "cell_type": "code",
   "execution_count": 10,
   "id": "41da2b86",
   "metadata": {},
   "outputs": [
    {
     "ename": "TypeError",
     "evalue": "unsupported operand type(s) for -: 'list' and 'list'",
     "output_type": "error",
     "traceback": [
      "\u001b[1;31m---------------------------------------------------------------------------\u001b[0m",
      "\u001b[1;31mTypeError\u001b[0m                                 Traceback (most recent call last)",
      "\u001b[1;32m~\\AppData\\Local\\Temp/ipykernel_55816/1963181673.py\u001b[0m in \u001b[0;36m<module>\u001b[1;34m\u001b[0m\n\u001b[1;32m----> 1\u001b[1;33m \u001b[0mivp_forward_euler\u001b[0m\u001b[1;33m(\u001b[0m\u001b[0mu_0\u001b[0m\u001b[1;33m,\u001b[0m \u001b[1;36m9.5e7\u001b[0m\u001b[1;33m,\u001b[0m \u001b[1;36m86400\u001b[0m\u001b[1;33m)\u001b[0m\u001b[1;33m\u001b[0m\u001b[1;33m\u001b[0m\u001b[0m\n\u001b[0m",
      "\u001b[1;32m~\\AppData\\Local\\Temp/ipykernel_55816/2540673008.py\u001b[0m in \u001b[0;36mivp_forward_euler\u001b[1;34m(u_0, T, delta_t)\u001b[0m\n\u001b[0;32m     31\u001b[0m             \u001b[0mu\u001b[0m\u001b[1;33m[\u001b[0m\u001b[1;36m0\u001b[0m\u001b[1;33m]\u001b[0m \u001b[1;33m=\u001b[0m \u001b[0mu_0\u001b[0m\u001b[1;33m\u001b[0m\u001b[1;33m\u001b[0m\u001b[0m\n\u001b[0;32m     32\u001b[0m         \u001b[1;32melse\u001b[0m\u001b[1;33m:\u001b[0m\u001b[1;33m\u001b[0m\u001b[1;33m\u001b[0m\u001b[0m\n\u001b[1;32m---> 33\u001b[1;33m             \u001b[0mu\u001b[0m\u001b[1;33m[\u001b[0m\u001b[0mi\u001b[0m\u001b[1;33m]\u001b[0m \u001b[1;33m=\u001b[0m \u001b[0mu\u001b[0m\u001b[1;33m[\u001b[0m\u001b[0mi\u001b[0m\u001b[1;33m-\u001b[0m\u001b[1;36m1\u001b[0m\u001b[1;33m]\u001b[0m \u001b[1;33m+\u001b[0m \u001b[0mdelta_t\u001b[0m\u001b[1;33m*\u001b[0m\u001b[0mf_true\u001b[0m\u001b[1;33m(\u001b[0m\u001b[0mu\u001b[0m\u001b[1;33m[\u001b[0m\u001b[0mi\u001b[0m\u001b[1;33m-\u001b[0m\u001b[1;36m1\u001b[0m\u001b[1;33m]\u001b[0m\u001b[1;33m)\u001b[0m\u001b[1;33m\u001b[0m\u001b[1;33m\u001b[0m\u001b[0m\n\u001b[0m\u001b[0;32m     34\u001b[0m \u001b[1;33m\u001b[0m\u001b[0m\n\u001b[0;32m     35\u001b[0m     \u001b[1;32mreturn\u001b[0m \u001b[0mu\u001b[0m\u001b[1;33m,\u001b[0m \u001b[0mtimes\u001b[0m\u001b[1;33m\u001b[0m\u001b[1;33m\u001b[0m\u001b[0m\n",
      "\u001b[1;32m~\\AppData\\Local\\Temp/ipykernel_55816/2309311450.py\u001b[0m in \u001b[0;36mf_true\u001b[1;34m(u)\u001b[0m\n\u001b[0;32m     29\u001b[0m     \u001b[0mRm\u001b[0m \u001b[1;33m=\u001b[0m \u001b[1;33m[\u001b[0m\u001b[0mu\u001b[0m\u001b[1;33m[\u001b[0m\u001b[1;36m6\u001b[0m\u001b[1;33m]\u001b[0m\u001b[1;33m,\u001b[0m \u001b[0mu\u001b[0m\u001b[1;33m[\u001b[0m\u001b[1;36m7\u001b[0m\u001b[1;33m]\u001b[0m\u001b[1;33m,\u001b[0m \u001b[0mu\u001b[0m\u001b[1;33m[\u001b[0m\u001b[1;36m8\u001b[0m\u001b[1;33m]\u001b[0m\u001b[1;33m]\u001b[0m\u001b[1;33m\u001b[0m\u001b[1;33m\u001b[0m\u001b[0m\n\u001b[0;32m     30\u001b[0m \u001b[1;33m\u001b[0m\u001b[0m\n\u001b[1;32m---> 31\u001b[1;33m     \u001b[0ma_earth\u001b[0m \u001b[1;33m=\u001b[0m \u001b[0macc_planet\u001b[0m\u001b[1;33m(\u001b[0m\u001b[1;34m'earth'\u001b[0m\u001b[1;33m,\u001b[0m\u001b[0mRe\u001b[0m\u001b[1;33m,\u001b[0m\u001b[0mRs\u001b[0m\u001b[1;33m,\u001b[0m\u001b[0mRm\u001b[0m\u001b[1;33m,\u001b[0m\u001b[0mMe\u001b[0m\u001b[1;33m)\u001b[0m\u001b[1;33m\u001b[0m\u001b[1;33m\u001b[0m\u001b[0m\n\u001b[0m\u001b[0;32m     32\u001b[0m     \u001b[0ma_sun\u001b[0m \u001b[1;33m=\u001b[0m \u001b[0macc_planet\u001b[0m\u001b[1;33m(\u001b[0m\u001b[1;34m'sun'\u001b[0m\u001b[1;33m,\u001b[0m\u001b[0mRe\u001b[0m\u001b[1;33m,\u001b[0m\u001b[0mRs\u001b[0m\u001b[1;33m,\u001b[0m\u001b[0mRm\u001b[0m\u001b[1;33m,\u001b[0m\u001b[0mMs\u001b[0m\u001b[1;33m)\u001b[0m\u001b[1;33m\u001b[0m\u001b[1;33m\u001b[0m\u001b[0m\n\u001b[0;32m     33\u001b[0m     \u001b[0ma_moon\u001b[0m \u001b[1;33m=\u001b[0m \u001b[0macc_planet\u001b[0m\u001b[1;33m(\u001b[0m\u001b[1;34m'moon'\u001b[0m\u001b[1;33m,\u001b[0m\u001b[0mRe\u001b[0m\u001b[1;33m,\u001b[0m\u001b[0mRs\u001b[0m\u001b[1;33m,\u001b[0m\u001b[0mRm\u001b[0m\u001b[1;33m,\u001b[0m\u001b[0mMm\u001b[0m\u001b[1;33m)\u001b[0m\u001b[1;33m\u001b[0m\u001b[1;33m\u001b[0m\u001b[0m\n",
      "\u001b[1;32m~\\AppData\\Local\\Temp/ipykernel_55816/2309311450.py\u001b[0m in \u001b[0;36macc_planet\u001b[1;34m(planet, Re, Rs, Rm, M)\u001b[0m\n\u001b[0;32m     21\u001b[0m \u001b[1;33m\u001b[0m\u001b[0m\n\u001b[0;32m     22\u001b[0m \u001b[1;32mdef\u001b[0m \u001b[0macc_planet\u001b[0m\u001b[1;33m(\u001b[0m\u001b[0mplanet\u001b[0m\u001b[1;33m,\u001b[0m\u001b[0mRe\u001b[0m\u001b[1;33m,\u001b[0m\u001b[0mRs\u001b[0m\u001b[1;33m,\u001b[0m\u001b[0mRm\u001b[0m\u001b[1;33m,\u001b[0m\u001b[0mM\u001b[0m\u001b[1;33m)\u001b[0m\u001b[1;33m:\u001b[0m\u001b[1;33m\u001b[0m\u001b[1;33m\u001b[0m\u001b[0m\n\u001b[1;32m---> 23\u001b[1;33m     \u001b[0ma\u001b[0m \u001b[1;33m=\u001b[0m \u001b[0mforce\u001b[0m\u001b[1;33m(\u001b[0m\u001b[0mplanet\u001b[0m\u001b[1;33m,\u001b[0m \u001b[0mRe\u001b[0m\u001b[1;33m,\u001b[0m \u001b[0mRs\u001b[0m\u001b[1;33m,\u001b[0m \u001b[0mRm\u001b[0m\u001b[1;33m)\u001b[0m\u001b[1;33m/\u001b[0m\u001b[0mM\u001b[0m\u001b[1;33m\u001b[0m\u001b[1;33m\u001b[0m\u001b[0m\n\u001b[0m\u001b[0;32m     24\u001b[0m     \u001b[1;32mreturn\u001b[0m \u001b[0ma\u001b[0m\u001b[1;33m\u001b[0m\u001b[1;33m\u001b[0m\u001b[0m\n\u001b[0;32m     25\u001b[0m \u001b[1;33m\u001b[0m\u001b[0m\n",
      "\u001b[1;32m~\\AppData\\Local\\Temp/ipykernel_55816/2309311450.py\u001b[0m in \u001b[0;36mforce\u001b[1;34m(planet, Re, Rs, Rm)\u001b[0m\n\u001b[0;32m      6\u001b[0m \u001b[1;33m\u001b[0m\u001b[0m\n\u001b[0;32m      7\u001b[0m \u001b[1;32mdef\u001b[0m \u001b[0mforce\u001b[0m\u001b[1;33m(\u001b[0m\u001b[0mplanet\u001b[0m\u001b[1;33m,\u001b[0m \u001b[0mRe\u001b[0m\u001b[1;33m,\u001b[0m \u001b[0mRs\u001b[0m\u001b[1;33m,\u001b[0m \u001b[0mRm\u001b[0m\u001b[1;33m)\u001b[0m\u001b[1;33m:\u001b[0m\u001b[1;33m\u001b[0m\u001b[1;33m\u001b[0m\u001b[0m\n\u001b[1;32m----> 8\u001b[1;33m     \u001b[0mforce_sun_on_earth\u001b[0m \u001b[1;33m=\u001b[0m \u001b[0mGravitational_Force\u001b[0m\u001b[1;33m(\u001b[0m\u001b[0mRe\u001b[0m\u001b[1;33m,\u001b[0m\u001b[0mRs\u001b[0m\u001b[1;33m,\u001b[0m\u001b[0mMe\u001b[0m\u001b[1;33m,\u001b[0m\u001b[0mMs\u001b[0m\u001b[1;33m)\u001b[0m\u001b[1;33m\u001b[0m\u001b[1;33m\u001b[0m\u001b[0m\n\u001b[0m\u001b[0;32m      9\u001b[0m     \u001b[0mforce_earth_on_sun\u001b[0m \u001b[1;33m=\u001b[0m \u001b[1;33m-\u001b[0m\u001b[0mforce_sun_on_earth\u001b[0m\u001b[1;33m\u001b[0m\u001b[1;33m\u001b[0m\u001b[0m\n\u001b[0;32m     10\u001b[0m     \u001b[0mforce_moon_on_earth\u001b[0m \u001b[1;33m=\u001b[0m \u001b[0mGravitational_Force\u001b[0m\u001b[1;33m(\u001b[0m\u001b[0mRe\u001b[0m\u001b[1;33m,\u001b[0m\u001b[0mRm\u001b[0m\u001b[1;33m,\u001b[0m\u001b[0mMe\u001b[0m\u001b[1;33m,\u001b[0m\u001b[0mMm\u001b[0m\u001b[1;33m)\u001b[0m\u001b[1;33m\u001b[0m\u001b[1;33m\u001b[0m\u001b[0m\n",
      "\u001b[1;32m~\\AppData\\Local\\Temp/ipykernel_55816/2309311450.py\u001b[0m in \u001b[0;36mGravitational_Force\u001b[1;34m(ri, rj, mi, mj, G)\u001b[0m\n\u001b[0;32m      3\u001b[0m \u001b[1;33m\u001b[0m\u001b[0m\n\u001b[0;32m      4\u001b[0m \u001b[1;32mdef\u001b[0m \u001b[0mGravitational_Force\u001b[0m\u001b[1;33m(\u001b[0m\u001b[0mri\u001b[0m\u001b[1;33m,\u001b[0m \u001b[0mrj\u001b[0m\u001b[1;33m,\u001b[0m \u001b[0mmi\u001b[0m\u001b[1;33m,\u001b[0m \u001b[0mmj\u001b[0m\u001b[1;33m,\u001b[0m \u001b[0mG\u001b[0m\u001b[1;33m=\u001b[0m\u001b[1;36m6.673e-11\u001b[0m\u001b[1;33m)\u001b[0m\u001b[1;33m:\u001b[0m\u001b[1;33m\u001b[0m\u001b[1;33m\u001b[0m\u001b[0m\n\u001b[1;32m----> 5\u001b[1;33m     \u001b[1;32mreturn\u001b[0m \u001b[1;33m(\u001b[0m\u001b[1;33m(\u001b[0m\u001b[0mG\u001b[0m\u001b[1;33m*\u001b[0m\u001b[0mmi\u001b[0m\u001b[1;33m*\u001b[0m\u001b[0mmj\u001b[0m\u001b[1;33m*\u001b[0m\u001b[1;33m(\u001b[0m\u001b[0mrj\u001b[0m\u001b[1;33m-\u001b[0m\u001b[0mri\u001b[0m\u001b[1;33m)\u001b[0m\u001b[1;33m)\u001b[0m\u001b[1;33m/\u001b[0m\u001b[1;33m(\u001b[0m\u001b[0mnp\u001b[0m\u001b[1;33m.\u001b[0m\u001b[0mlinalg\u001b[0m\u001b[1;33m.\u001b[0m\u001b[0mnorm\u001b[0m\u001b[1;33m(\u001b[0m\u001b[0mrj\u001b[0m\u001b[1;33m-\u001b[0m\u001b[0mri\u001b[0m\u001b[1;33m)\u001b[0m\u001b[1;33m)\u001b[0m\u001b[1;33m**\u001b[0m\u001b[1;36m3\u001b[0m\u001b[1;33m)\u001b[0m\u001b[1;33m\u001b[0m\u001b[1;33m\u001b[0m\u001b[0m\n\u001b[0m\u001b[0;32m      6\u001b[0m \u001b[1;33m\u001b[0m\u001b[0m\n\u001b[0;32m      7\u001b[0m \u001b[1;32mdef\u001b[0m \u001b[0mforce\u001b[0m\u001b[1;33m(\u001b[0m\u001b[0mplanet\u001b[0m\u001b[1;33m,\u001b[0m \u001b[0mRe\u001b[0m\u001b[1;33m,\u001b[0m \u001b[0mRs\u001b[0m\u001b[1;33m,\u001b[0m \u001b[0mRm\u001b[0m\u001b[1;33m)\u001b[0m\u001b[1;33m:\u001b[0m\u001b[1;33m\u001b[0m\u001b[1;33m\u001b[0m\u001b[0m\n",
      "\u001b[1;31mTypeError\u001b[0m: unsupported operand type(s) for -: 'list' and 'list'"
     ]
    }
   ],
   "source": [
    "ivp_forward_euler(u_0, 9.5e7, 86400)"
   ]
  }
 ],
 "metadata": {
  "kernelspec": {
   "display_name": "Python 3 (ipykernel)",
   "language": "python",
   "name": "python3"
  },
  "language_info": {
   "codemirror_mode": {
    "name": "ipython",
    "version": 3
   },
   "file_extension": ".py",
   "mimetype": "text/x-python",
   "name": "python",
   "nbconvert_exporter": "python",
   "pygments_lexer": "ipython3",
   "version": "3.9.7"
  }
 },
 "nbformat": 4,
 "nbformat_minor": 5
}
