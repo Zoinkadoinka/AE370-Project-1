{
 "cells": [
  {
   "cell_type": "markdown",
   "id": "9db9e7d1",
   "metadata": {},
   "source": [
    "This notebook will plot a 3-body problem and calculate the energy of the system over time. "
   ]
  },
  {
   "cell_type": "code",
   "execution_count": 7,
   "id": "74ad60c5",
   "metadata": {},
   "outputs": [],
   "source": [
    "# Do necessary imports\n",
    "import numpy as np\n",
    "from matplotlib import pyplot as plt"
   ]
  },
  {
   "cell_type": "code",
   "execution_count": null,
   "id": "d0168045",
   "metadata": {},
   "outputs": [],
   "source": [
    "# For the Earth, Sun, Moon 3-body Problem:\n",
    "\n",
    "# Masses of the Planets\n",
    "Me = 6e24                     # Mass of Earth in kg\n",
    "Ms = 2e30                     # Mass of Sun in kg                       \n",
    "Mm = 7.347e22                 # Mass of Moon in kg\n",
    "\n",
    "# Initial Positions of the Planets (vectors)\n",
    "Re = \n",
    "Rs = \n",
    "Rm = \n",
    "\n",
    "# Initial Velocity of the Planets (vectors)\n",
    "Ve = \n",
    "Vs = \n",
    "Vm =\n",
    "\n",
    "\n",
    "u_0 = np.array([Re, Rs, Rm, Ve, Vs, Vm])\n",
    "\n",
    "G = 6.673e-11                 # Gravitational Constant"
   ]
  },
  {
   "cell_type": "code",
   "execution_count": 5,
   "id": "f21eb297",
   "metadata": {},
   "outputs": [],
   "source": [
    "# Calculate the gravitional force on a body given the position vectors and the masses of the bodies\n",
    "# ====================================================================================================================\n",
    "\n",
    "def Gravitational_Force(ri, rj, mi, mj, G=6.673e-11):\n",
    "    return ((G*mi*mj*(rj-ri))/(np.linalg.norm(rj-ri))**3)\n",
    "\n",
    "def force(planet, Re, Rs, Rm, Me, Ms, Mm):\n",
    "    force_sun_on_earth = Gravitational_Force(Re,Rs,Me,Ms)\n",
    "    force_earth_on_sun = -force_sun_on_earth\n",
    "    force_moon_on_earth = Gravitational_Force(Re,Rm,Me,Mm)\n",
    "    force_earth_on_moon = -force_moon_on_earth\n",
    "    force_sun_on_moon = Gravitational_Force(Rm,Rs,Mm,Ms)\n",
    "    force_moon_on_sun = -force_sun_on_moon\n",
    "    \n",
    "    if planet == \"earth\":\n",
    "        return force_sun_on_earth + force_moon_on_earth\n",
    "    if planet == \"sun\":\n",
    "        return force_earth_on_sun + force_moon_on_sun\n",
    "    if planet == \"moon\":\n",
    "        return force_sun_on_moon + force_earth_on_moon\n",
    "    \n",
    "    \n",
    "def f_true(u,planet,Re, Rs, Rm,M):\n",
    "    \n",
    "    a = force(planet, Re, Rs, Rm)/M\n",
    "    v = u[0:3]   \n",
    "    udot = np.array([a[0],a[1],a[2],v[0],v[1],v[2]])\n",
    "    \n",
    "    return udot"
   ]
  },
  {
   "cell_type": "code",
   "execution_count": null,
   "id": "e1a0a7d6",
   "metadata": {},
   "outputs": [],
   "source": [
    "# IVP Forward Euler Code\n",
    "import numpy as np\n",
    "\n",
    "def ivp_forward_euler(u_0, T, delta_t):\n",
    "    \"\"\"Returns the predicted system evolution over time using the forward Euler method.\n",
    "\n",
    "    This function assumes an f_true(u) function is globally available for calculating the true function value at u.\n",
    "    \n",
    "    Parameters\n",
    "    ----------\n",
    "    u_0 : array\n",
    "        1 x N array defining the initial state vector u_0 where N = number of state variables = |u|\n",
    "    T : float_like\n",
    "        Final time T\n",
    "    delta_t : float_like\n",
    "        Time step size where delta_t = t_{k+1} - t_k\n",
    "        \n",
    "    Returns\n",
    "    -------\n",
    "    u : array\n",
    "        K x N array of the predicted states where row k is the state at time step k and K = number of time steps\n",
    "    times : array_like\n",
    "        Length K vector containing the times t corresponding to time steps\n",
    "    \"\"\"\n",
    "    \n",
    "\n",
    "    times = np.arange(0, T+delta_t,delta_t)\n",
    "    u = np.zeros((len(times),len(u_0)))\n",
    "    for i in range(len(times)):\n",
    "        if i == 0:\n",
    "            u[0] = u_0\n",
    "        else:  \n",
    "            u[i] = u[i-1] + delta_t*f_true(u[i-1])\n",
    "    \n",
    "    return u, times\n",
    "    "
   ]
  },
  {
   "cell_type": "code",
   "execution_count": 6,
   "id": "6f6e8f30",
   "metadata": {},
   "outputs": [],
   "source": [
    "# Functions to calculate energy of the system \n",
    "# ==================================================================================================================\n",
    "\n",
    "# Calculate the kinetic energy\n",
    "def Kinetic_Energy(m,v):\n",
    "    v_n = np.linalg.norm(v)\n",
    "    return 0.5*m*v_n**2\n",
    "\n",
    "# Calculate the magnitude of the potential energy to be used when calculating the total energy\n",
    "def PE_mag(mi,mj,ri,rj,G=6.673e-11):\n",
    "    return G*mi*mj/np.linalg.norm(ri-rj)\n",
    "\n",
    "# Calculate the total energy for the 3-body problem\n",
    "def Total_Energy(m1,m2,m3,r1,r2,r3,v1,v2,v3):\n",
    "    total_KE = Kinetic_Energy(m1,v1)+Kinetic_Energy(m2,v2)+Kinetic_Energy(m3,v3)\n",
    "    total_PE = -(PE_mag(m2,m1,r2,r1)+PE_mag(m3,m1,r3,r1)+PE_mag(m3,m2,r3,r2))\n",
    "    return total_KE + total_PE"
   ]
  },
  {
   "cell_type": "code",
   "execution_count": null,
   "id": "b35a9b6e",
   "metadata": {},
   "outputs": [],
   "source": []
  }
 ],
 "metadata": {
  "kernelspec": {
   "display_name": "Python 3 (ipykernel)",
   "language": "python",
   "name": "python3"
  },
  "language_info": {
   "codemirror_mode": {
    "name": "ipython",
    "version": 3
   },
   "file_extension": ".py",
   "mimetype": "text/x-python",
   "name": "python",
   "nbconvert_exporter": "python",
   "pygments_lexer": "ipython3",
   "version": "3.9.7"
  }
 },
 "nbformat": 4,
 "nbformat_minor": 5
}
