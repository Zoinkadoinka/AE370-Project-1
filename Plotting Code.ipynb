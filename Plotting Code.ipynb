{
 "cells": [
  {
   "cell_type": "markdown",
   "id": "f28c8bb6",
   "metadata": {},
   "source": [
    "This notebook will plot a 3-body problem and calculate the energy of the system over time. "
   ]
  },
  {
   "cell_type": "code",
   "execution_count": 1,
   "id": "7be7e856",
   "metadata": {},
   "outputs": [],
   "source": [
    "# Do necessary imports\n",
    "import numpy as np\n",
    "from matplotlib import pyplot as plt"
   ]
  },
  {
   "cell_type": "code",
   "execution_count": 2,
   "id": "99fc06d4",
   "metadata": {},
   "outputs": [],
   "source": [
    "# For the Earth, Sun, Moon 3-body Problem:\n",
    "\n",
    "# Masses of the Planets\n",
    "Me = 6e24                     # Mass of Earth in kg\n",
    "Ms = 2e30                     # Mass of Sun in kg                       \n",
    "Mm = 7.347e22                 # Mass of Moon in kg\n",
    "\n",
    "# Initial Positions of the Planets (vectors)\n",
    "Re = np.array([1.496e11*1,0,0]) #1 AU away from the sun converted to m\n",
    "Rs = np.array([0,0,0])\n",
    "Rm = np.array([1.496e11*1 + 384400e3,0,0]) #5.2 AU away from the sun converted to m\n",
    "\n",
    "# Initial Velocity of the Planets (vectors)\n",
    "# currently random numbers to see if code runs\n",
    "Ve = np.array([0,30e3,0])\n",
    "Vs = np.array([0,0,0])\n",
    "Vm = np.array([0,10e3,0])\n",
    "\n",
    "\n",
    "u_0 = np.array([Re[0], Re[1], Re[2],\n",
    "                Rs[0], Rs[1], Rs[2],\n",
    "                Rm[0], Rm[1], Rm[2],\n",
    "                Ve[0], Ve[1], Ve[2],\n",
    "                Vs[0], Vs[1], Vs[2],\n",
    "                Vm[0], Vm[1], Vm[2]])\n",
    "\n",
    "G = 6.673e-11                 # Gravitational Constant"
   ]
  },
  {
   "cell_type": "code",
   "execution_count": 3,
   "id": "95539e30",
   "metadata": {},
   "outputs": [],
   "source": [
    "# Calculate the gravitional force on a body given the position vectors and the masses of the bodies\n",
    "# ====================================================================================================================\n",
    "\n",
    "def Gravitational_Force(ri, rj, mi, mj, G=6.673e-11):\n",
    "    return ((G*mi*mj*(np.array(rj)-np.array(ri)))/(np.linalg.norm(np.array(rj)-np.array(ri)))**3)\n",
    "\n",
    "def force(planet, Re, Rs, Rm):\n",
    "    force_sun_on_earth = Gravitational_Force(Re,Rs,Me,Ms)\n",
    "    force_earth_on_sun = -force_sun_on_earth\n",
    "    force_moon_on_earth = Gravitational_Force(Re,Rm,Me,Mm)\n",
    "    force_earth_on_moon = -force_moon_on_earth\n",
    "    force_sun_on_moon = Gravitational_Force(Rm,Rs,Mm,Ms)\n",
    "    force_moon_on_sun = -force_sun_on_moon\n",
    "    \n",
    "    if planet == \"earth\":\n",
    "        return force_sun_on_earth + force_moon_on_earth\n",
    "    if planet == \"sun\":\n",
    "        return force_earth_on_sun + force_moon_on_sun\n",
    "    if planet == \"moon\":\n",
    "        return force_sun_on_moon + force_earth_on_moon\n",
    "    \n",
    "def acc_planet(planet,Re,Rs,Rm,M):\n",
    "    a = force(planet, Re, Rs, Rm)/M\n",
    "    return a\n",
    "    \n",
    "def f_true(u):\n",
    "    Re = [u[0], u[1], u[2]]\n",
    "    Rs = [u[3], u[4], u[5]]\n",
    "    Rm = [u[6], u[7], u[8]]\n",
    "\n",
    "    a_earth = acc_planet('earth',Re,Rs,Rm,Me)\n",
    "    a_sun = acc_planet('sun',Re,Rs,Rm,Ms)\n",
    "    a_moon = acc_planet('moon',Re,Rs,Rm,Mm)\n",
    "    \n",
    "\n",
    "    udot = np.array([u[9], u[10], u[11],\n",
    "                     u[12], u[13], u[14],\n",
    "                     u[15], u[16], u[17],\n",
    "                     a_earth[0], a_earth[1], a_earth[2],\n",
    "                     a_sun[0], a_sun[1], a_sun[2], \n",
    "                     a_moon[0], a_moon[1], a_moon[2]])\n",
    "    \n",
    "    return udot"
   ]
  },
  {
   "cell_type": "code",
   "execution_count": 4,
   "id": "65ccecdf",
   "metadata": {},
   "outputs": [],
   "source": [
    "# IVP Forward Euler Code\n",
    "import numpy as np\n",
    "\n",
    "def ivp_forward_euler(u_0, T, delta_t):\n",
    "    \"\"\"Returns the predicted system evolution over time using the forward Euler method.\n",
    "\n",
    "    This function assumes an f_true(u) function is globally available for calculating the true function value at u.\n",
    "    \n",
    "    Parameters\n",
    "    ----------\n",
    "    u_0 : array\n",
    "        1 x N array defining the initial state vector u_0 where N = number of state variables = |u|\n",
    "    T : float_like\n",
    "        Final time T\n",
    "    delta_t : float_like\n",
    "        Time step size where delta_t = t_{k+1} - t_k\n",
    "        \n",
    "    Returns\n",
    "    -------\n",
    "    u : array\n",
    "        K x N array of the predicted states where row k is the state at time step k and K = number of time steps\n",
    "    times : array_like\n",
    "        Length K vector containing the times t corresponding to time steps\n",
    "    \"\"\"\n",
    "    \n",
    "\n",
    "    times = np.arange(0, T+delta_t,delta_t)\n",
    "    u = np.zeros((len(times),len(u_0)))\n",
    "    for i in range(len(times)):\n",
    "        if i == 0:\n",
    "            u[0] = u_0\n",
    "        else:  \n",
    "            u[i] = u[i-1] + delta_t*f_true(u[i-1])\n",
    "    \n",
    "    return u, times\n",
    "    "
   ]
  },
  {
   "cell_type": "code",
   "execution_count": 5,
   "id": "94e9f714",
   "metadata": {},
   "outputs": [],
   "source": [
    "# Functions to calculate energy of the system \n",
    "# ==================================================================================================================\n",
    "\n",
    "# Calculate the kinetic energy\n",
    "def Kinetic_Energy(m,v):\n",
    "    v_n = np.linalg.norm(v)\n",
    "    return 0.5*m*v_n**2\n",
    "\n",
    "# Calculate the magnitude of the potential energy to be used when calculating the total energy\n",
    "def PE_mag(mi,mj,ri,rj,G=6.673e-11):\n",
    "    return G*mi*mj/np.linalg.norm(ri-rj)\n",
    "\n",
    "# Calculate the total energy for the 3-body problem\n",
    "def Total_Energy(m1,m2,m3,r1,r2,r3,v1,v2,v3):\n",
    "    total_KE = Kinetic_Energy(m1,v1)+Kinetic_Energy(m2,v2)+Kinetic_Energy(m3,v3)\n",
    "    total_PE = -(PE_mag(m2,m1,r2,r1)+PE_mag(m3,m1,r3,r1)+PE_mag(m3,m2,r3,r2))\n",
    "    return total_KE + total_PE"
   ]
  },
  {
   "cell_type": "code",
   "execution_count": 10,
   "id": "57aca25e",
   "metadata": {},
   "outputs": [
    {
     "name": "stdout",
     "output_type": "stream",
     "text": [
      "[[ 1.49600000e+11  0.00000000e+00  0.00000000e+00 ...  0.00000000e+00\n",
      "   1.00000000e+04  0.00000000e+00]\n",
      " [ 1.49600000e+11  2.59200000e+09  0.00000000e+00 ... -7.46702688e+02\n",
      "   1.00000000e+04  0.00000000e+00]\n",
      " [ 1.49555732e+11  5.18400000e+09  0.00000000e+00 ... -1.26166722e+03\n",
      "   1.00078227e+04  0.00000000e+00]\n",
      " ...\n",
      " [ 6.63903942e+10  1.97318424e+11  0.00000000e+00 ...  1.77283005e+04\n",
      "  -8.96475038e+04  0.00000000e+00]\n",
      " [ 6.42924787e+10  1.98063335e+11  0.00000000e+00 ...  1.77282678e+04\n",
      "  -8.96473339e+04  0.00000000e+00]\n",
      " [ 6.21872322e+10  1.98786459e+11  0.00000000e+00 ...  1.77282351e+04\n",
      "  -8.96471644e+04  0.00000000e+00]]\n"
     ]
    },
    {
     "data": {
      "text/plain": [
       "<matplotlib.legend.Legend at 0x1b6721ae040>"
      ]
     },
     "execution_count": 10,
     "metadata": {},
     "output_type": "execute_result"
    },
    {
     "data": {
      "image/png": "[encoded data removed]",
      "text/plain": [
       "<Figure size 800x600 with 1 Axes>"
      ]
     },
     "metadata": {},
     "output_type": "display_data"
    }
   ],
   "source": [
    "import matplotlib.pyplot as plt\n",
    "plt.style.use('default')\n",
    "\n",
    "delta_t = 86400\n",
    "fig1 = plt.figure(figsize=(8, 6), tight_layout=True)\n",
    "ax1 = fig1.add_subplot(221)\n",
    "\n",
    "u, times = ivp_forward_euler(u_0, 9.5e7, 86400)\n",
    "\n",
    "print(u)\n",
    "\n",
    "ax1.plot(u[:,0],u[:,1],\"r\", label = \"Earth\")\n",
    "ax1.plot(u[:,3],u[:,4],\"g\", label = \"Sun\")\n",
    "ax1.plot(u[:,6],u[:,7],\"b\", label = \"Moon\")\n",
    "\n",
    "ax1.set_title(\"Orbits\")\n",
    "ax1.set_xlabel(\"$x(m)$\")\n",
    "ax1.set_ylabel(\"$y(m)$\")\n",
    "ax1.legend()"
   ]
  },
  {
   "cell_type": "code",
   "execution_count": null,
   "id": "dc06c9e4",
   "metadata": {},
   "outputs": [],
   "source": []
  },
  {
   "cell_type": "code",
   "execution_count": null,
   "id": "7d42f909",
   "metadata": {},
   "outputs": [],
   "source": []
  }
 ],
 "metadata": {
  "kernelspec": {
   "display_name": "Python 3 (ipykernel)",
   "language": "python",
   "name": "python3"
  },
  "language_info": {
   "codemirror_mode": {
    "name": "ipython",
    "version": 3
   },
   "file_extension": ".py",
   "mimetype": "text/x-python",
   "name": "python",
   "nbconvert_exporter": "python",
   "pygments_lexer": "ipython3",
   "version": "3.9.7"
  }
 },
 "nbformat": 4,
 "nbformat_minor": 5
}
