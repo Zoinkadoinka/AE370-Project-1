{
 "cells": [
  {
   "cell_type": "markdown",
   "metadata": {},
   "source": [
    "This notebook will plot a 3-body problem and calculate the energy of the system over time. "
   ]
  },
  {
   "cell_type": "code",
   "execution_count": 23,
   "metadata": {},
   "outputs": [],
   "source": [
    "# Do necessary imports\n",
    "import numpy as np\n",
    "from matplotlib import pyplot as plt"
   ]
  },
  {
   "cell_type": "code",
   "execution_count": 24,
   "metadata": {},
   "outputs": [],
   "source": [
    "# For the Earth, Sun, Moon 3-body Problem:\n",
    "\n",
    "# Masses of the Planets\n",
    "Me = 6e24                     # Mass of Earth in kg\n",
    "Ms = 2e30                     # Mass of Sun in kg                       \n",
    "Mm = 7.347e22                 # Mass of Moon in kg\n",
    "\n",
    "# Initial Positions of the Planets (vectors)\n",
    "Re = np.array([1.496e11*1,0,0]) #1 AU away from the sun converted to m\n",
    "Rs = np.array([0,0,0])\n",
    "Rm = np.array([1.496e11*5.2,0,0]) #5.2 AU away from the sun converted to m\n",
    "\n",
    "# Initial Velocity of the Planets (vectors)\n",
    "# currently random numbers to see if code runs\n",
    "Ve = np.array([0,30e3,0])\n",
    "Vs = np.array([0,0,0])\n",
    "Vm = np.array([0,10e3,0])\n",
    "\n",
    "\n",
    "u_0 = np.array([Re[0], Re[1], Re[2],\n",
    "                Rs[0], Rs[1], Rs[2],\n",
    "                Rm[0], Rm[1], Rm[2],\n",
    "                Ve[0], Ve[1], Ve[2],\n",
    "                Vs[0], Vs[1], Vs[2],\n",
    "                Vm[0], Vm[1], Vm[2]])\n",
    "\n",
    "G = 6.673e-11                 # Gravitational Constant"
   ]
  },
  {
   "cell_type": "code",
   "execution_count": 25,
   "metadata": {},
   "outputs": [],
   "source": [
    "# Calculate the gravitional force on a body given the position vectors and the masses of the bodies\n",
    "# ====================================================================================================================\n",
    "\n",
    "def Gravitational_Force(ri, rj, mi, mj, G=6.673e-11):\n",
    "    return ((G*mi*mj*(np.array(rj)-np.array(ri)))/(np.linalg.norm(np.array(rj)-np.array(ri)))**3)\n",
    "\n",
    "def force(planet, Re, Rs, Rm):\n",
    "    force_sun_on_earth = Gravitational_Force(Re,Rs,Me,Ms)\n",
    "    force_earth_on_sun = -force_sun_on_earth\n",
    "    force_moon_on_earth = Gravitational_Force(Re,Rm,Me,Mm)\n",
    "    force_earth_on_moon = -force_moon_on_earth\n",
    "    force_sun_on_moon = Gravitational_Force(Rm,Rs,Mm,Ms)\n",
    "    force_moon_on_sun = -force_sun_on_moon\n",
    "    \n",
    "    if planet == \"earth\":\n",
    "        return force_sun_on_earth + force_moon_on_earth\n",
    "    if planet == \"sun\":\n",
    "        return force_earth_on_sun + force_moon_on_sun\n",
    "    if planet == \"moon\":\n",
    "        return force_sun_on_moon + force_earth_on_moon\n",
    "    \n",
    "def acc_planet(planet,Re,Rs,Rm,M):\n",
    "    a = force(planet, Re, Rs, Rm)/M\n",
    "    return a\n",
    "    \n",
    "def f_true(u):\n",
    "    Re = [u[0], u[1], u[2]]\n",
    "    Rs = [u[3], u[4], u[5]]\n",
    "    Rm = [u[6], u[7], u[8]]\n",
    "\n",
    "    a_earth = acc_planet('earth',Re,Rs,Rm,Me)\n",
    "    a_sun = acc_planet('sun',Re,Rs,Rm,Ms)\n",
    "    a_moon = acc_planet('moon',Re,Rs,Rm,Mm)\n",
    "    \n",
    "\n",
    "    udot = np.array([u[9], u[10], u[11],\n",
    "                     u[12], u[13], u[14],\n",
    "                     u[15], u[16], u[17],\n",
    "                     a_earth[0], a_earth[1], a_earth[2],\n",
    "                     a_sun[0], a_sun[1], a_sun[2], \n",
    "                     a_moon[0], a_moon[1], a_moon[2]])\n",
    "    \n",
    "    return udot"
   ]
  },
  {
   "cell_type": "code",
   "execution_count": 26,
   "metadata": {},
   "outputs": [],
   "source": [
    "# IVP Forward Euler Code\n",
    "import numpy as np\n",
    "\n",
    "def ivp_forward_euler(u_0, T, delta_t):\n",
    "    \"\"\"Returns the predicted system evolution over time using the forward Euler method.\n",
    "\n",
    "    This function assumes an f_true(u) function is globally available for calculating the true function value at u.\n",
    "    \n",
    "    Parameters\n",
    "    ----------\n",
    "    u_0 : array\n",
    "        1 x N array defining the initial state vector u_0 where N = number of state variables = |u|\n",
    "    T : float_like\n",
    "        Final time T\n",
    "    delta_t : float_like\n",
    "        Time step size where delta_t = t_{k+1} - t_k\n",
    "        \n",
    "    Returns\n",
    "    -------\n",
    "    u : array\n",
    "        K x N array of the predicted states where row k is the state at time step k and K = number of time steps\n",
    "    times : array_like\n",
    "        Length K vector containing the times t corresponding to time steps\n",
    "    \"\"\"\n",
    "    \n",
    "\n",
    "    times = np.arange(0, T+delta_t,delta_t)\n",
    "    u = np.zeros((len(times),len(u_0)))\n",
    "    for i in range(len(times)):\n",
    "        if i == 0:\n",
    "            u[0] = u_0\n",
    "        else:  \n",
    "            u[i] = u[i-1] + delta_t*f_true(u[i-1])\n",
    "    \n",
    "    return u, times\n",
    "    "
   ]
  },
  {
   "cell_type": "code",
   "execution_count": 27,
   "metadata": {},
   "outputs": [],
   "source": [
    "# Functions to calculate energy of the system \n",
    "# ==================================================================================================================\n",
    "\n",
    "# Calculate the kinetic energy\n",
    "def Kinetic_Energy(m,v):\n",
    "    v_n = np.linalg.norm(v)\n",
    "    return 0.5*m*v_n**2\n",
    "\n",
    "# Calculate the magnitude of the potential energy to be used when calculating the total energy\n",
    "def PE_mag(mi,mj,ri,rj,G=6.673e-11):\n",
    "    return G*mi*mj/np.linalg.norm(ri-rj)\n",
    "\n",
    "# Calculate the total energy for the 3-body problem\n",
    "def Total_Energy(m1,m2,m3,r1,r2,r3,v1,v2,v3):\n",
    "    total_KE = Kinetic_Energy(m1,v1)+Kinetic_Energy(m2,v2)+Kinetic_Energy(m3,v3)\n",
    "    total_PE = -(PE_mag(m2,m1,r2,r1)+PE_mag(m3,m1,r3,r1)+PE_mag(m3,m2,r3,r2))\n",
    "    return total_KE + total_PE"
   ]
  },
  {
   "cell_type": "code",
   "execution_count": 28,
   "metadata": {},
   "outputs": [
    {
     "data": {
      "text/plain": [
       "(array([[ 1.49600000e+11,  0.00000000e+00,  0.00000000e+00, ...,\n",
       "          0.00000000e+00,  1.00000000e+04,  0.00000000e+00],\n",
       "        [ 1.49600000e+11,  2.59200000e+09,  0.00000000e+00, ...,\n",
       "         -1.90544749e+01,  1.00000000e+04,  0.00000000e+00],\n",
       "        [ 1.49555484e+11,  5.18400000e+09,  0.00000000e+00, ...,\n",
       "         -3.81089146e+01,  9.99997884e+03,  0.00000000e+00],\n",
       "        ...,\n",
       "        [ 6.64451246e+10,  1.97273750e+11,  0.00000000e+00, ...,\n",
       "         -1.51009564e+04, -1.52225440e+04,  0.00000000e+00],\n",
       "        [ 6.43471696e+10,  1.98019351e+11,  0.00000000e+00, ...,\n",
       "         -1.50631002e+04, -1.52923774e+04,  0.00000000e+00],\n",
       "        [ 6.22418749e+10,  1.98743162e+11,  0.00000000e+00, ...,\n",
       "         -1.50248123e+04, -1.53622278e+04,  0.00000000e+00]]),\n",
       " array([0.00000e+00, 8.64000e+04, 1.72800e+05, ..., 9.48672e+07,\n",
       "        9.49536e+07, 9.50400e+07]))"
      ]
     },
     "execution_count": 28,
     "metadata": {},
     "output_type": "execute_result"
    }
   ],
   "source": [
    "ivp_forward_euler(u_0, 9.5e7, 86400)"
   ]
  },
  {
   "cell_type": "code",
   "execution_count": 10,
   "metadata": {},
   "outputs": [
    {
     "data": {
      "text/plain": [
       "array([0, 0, 0])"
      ]
     },
     "execution_count": 10,
     "metadata": {},
     "output_type": "execute_result"
    }
   ],
   "source": [
    "np.array([1,2,3])-np.array([1,2,3])"
   ]
  },
  {
   "cell_type": "code",
   "execution_count": null,
   "metadata": {},
   "outputs": [],
   "source": []
  }
 ],
 "metadata": {
  "kernelspec": {
   "display_name": "Python 3",
   "language": "python",
   "name": "python3"
  },
  "language_info": {
   "codemirror_mode": {
    "name": "ipython",
    "version": 3
   },
   "file_extension": ".py",
   "mimetype": "text/x-python",
   "name": "python",
   "nbconvert_exporter": "python",
   "pygments_lexer": "ipython3",
   "version": "3.7.6"
  }
 },
 "nbformat": 4,
 "nbformat_minor": 5
}
